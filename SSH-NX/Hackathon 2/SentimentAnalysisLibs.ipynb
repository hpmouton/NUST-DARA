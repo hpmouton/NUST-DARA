{
 "cells": [
  {
   "cell_type": "code",
   "execution_count": 28,
   "id": "8341c5a4-ce8b-4900-b7e6-d4275059dc82",
   "metadata": {},
   "outputs": [],
   "source": [
    "import pandas as pd\n",
    "import csv\n",
    "import re\n",
    "import numpy as np\n",
    "import plotly.express as px\n",
    "from plotly.offline import init_notebook_mode\n",
    "\n",
    "from textblob import TextBlob\n",
    "from vaderSentiment.vaderSentiment import SentimentIntensityAnalyzer"
   ]
  },
  {
   "cell_type": "code",
   "execution_count": 29,
   "id": "4bf09c3a-3067-43c9-8c72-c199c89db70c",
   "metadata": {},
   "outputs": [],
   "source": [
    "#Create a function to get the subjectivity\n",
    "def getSubjectivity(text):\n",
    "    return TextBlob(text).sentiment.subjectivity\n",
    "\n",
    "#Create a function to get the polarity\n",
    "def getPolarity(text):\n",
    "    return TextBlob(text).sentiment.polarity"
   ]
  },
  {
   "cell_type": "code",
   "execution_count": 30,
   "id": "3723201a-58b4-46da-a08a-f32a88fde5da",
   "metadata": {},
   "outputs": [],
   "source": [
    "df = pd.read_csv('tweets.csv')"
   ]
  },
  {
   "cell_type": "code",
   "execution_count": 31,
   "id": "ca222a2d-8049-435d-af71-68a428d1178f",
   "metadata": {},
   "outputs": [
    {
     "data": {
      "text/html": [
       "<div>\n",
       "<style scoped>\n",
       "    .dataframe tbody tr th:only-of-type {\n",
       "        vertical-align: middle;\n",
       "    }\n",
       "\n",
       "    .dataframe tbody tr th {\n",
       "        vertical-align: top;\n",
       "    }\n",
       "\n",
       "    .dataframe thead th {\n",
       "        text-align: right;\n",
       "    }\n",
       "</style>\n",
       "<table border=\"1\" class=\"dataframe\">\n",
       "  <thead>\n",
       "    <tr style=\"text-align: right;\">\n",
       "      <th></th>\n",
       "      <th>Unnamed: 0</th>\n",
       "      <th>Time</th>\n",
       "      <th>User</th>\n",
       "      <th>Location</th>\n",
       "      <th>Tweet</th>\n",
       "      <th>subjectivity</th>\n",
       "      <th>polarity</th>\n",
       "    </tr>\n",
       "  </thead>\n",
       "  <tbody>\n",
       "    <tr>\n",
       "      <th>0</th>\n",
       "      <td>0</td>\n",
       "      <td>2022-04-27 05:22:43</td>\n",
       "      <td>lamek94</td>\n",
       "      <td>Windhoek</td>\n",
       "      <td>must blame mr ekandjo ! everything belong swapo .</td>\n",
       "      <td>0.000000</td>\n",
       "      <td>0.000000</td>\n",
       "    </tr>\n",
       "    <tr>\n",
       "      <th>1</th>\n",
       "      <td>1</td>\n",
       "      <td>2022-04-27 03:00:06</td>\n",
       "      <td>sinut69</td>\n",
       "      <td>Namibia</td>\n",
       "      <td>call national flag say belong swapo ? contradi...</td>\n",
       "      <td>0.000000</td>\n",
       "      <td>0.000000</td>\n",
       "    </tr>\n",
       "    <tr>\n",
       "      <th>2</th>\n",
       "      <td>2</td>\n",
       "      <td>2022-04-26 21:47:25</td>\n",
       "      <td>__evuleMoses_</td>\n",
       "      <td>oshakati</td>\n",
       "      <td>immanuel benefits swapo wants stay power till ...</td>\n",
       "      <td>0.500000</td>\n",
       "      <td>-0.150000</td>\n",
       "    </tr>\n",
       "    <tr>\n",
       "      <th>3</th>\n",
       "      <td>3</td>\n",
       "      <td>2022-04-26 20:47:28</td>\n",
       "      <td>journeyman_94</td>\n",
       "      <td>Namibia</td>\n",
       "      <td>swanu flag inspired swapo flag ?</td>\n",
       "      <td>0.000000</td>\n",
       "      <td>0.000000</td>\n",
       "    </tr>\n",
       "    <tr>\n",
       "      <th>4</th>\n",
       "      <td>4</td>\n",
       "      <td>2022-04-26 20:46:52</td>\n",
       "      <td>_EierKlitser</td>\n",
       "      <td>Namibia</td>\n",
       "      <td>swapo wants rule enrich pockets like pm. kak b...</td>\n",
       "      <td>0.100000</td>\n",
       "      <td>0.200000</td>\n",
       "    </tr>\n",
       "    <tr>\n",
       "      <th>...</th>\n",
       "      <td>...</td>\n",
       "      <td>...</td>\n",
       "      <td>...</td>\n",
       "      <td>...</td>\n",
       "      <td>...</td>\n",
       "      <td>...</td>\n",
       "      <td>...</td>\n",
       "    </tr>\n",
       "    <tr>\n",
       "      <th>143</th>\n",
       "      <td>143</td>\n",
       "      <td>2022-04-19 09:42:44</td>\n",
       "      <td>SilasNdakolo</td>\n",
       "      <td>Namibia</td>\n",
       "      <td>blame public relations team swapo , tell good ...</td>\n",
       "      <td>0.333333</td>\n",
       "      <td>0.350000</td>\n",
       "    </tr>\n",
       "    <tr>\n",
       "      <th>144</th>\n",
       "      <td>144</td>\n",
       "      <td>2022-04-19 09:31:50</td>\n",
       "      <td>MevrouS</td>\n",
       "      <td>Namibia</td>\n",
       "      <td>mekondjo cases , complaints even taken serious...</td>\n",
       "      <td>0.316667</td>\n",
       "      <td>-0.308333</td>\n",
       "    </tr>\n",
       "    <tr>\n",
       "      <th>145</th>\n",
       "      <td>145</td>\n",
       "      <td>2022-04-19 09:27:59</td>\n",
       "      <td>EagleFMNam</td>\n",
       "      <td>Namibia</td>\n",
       "      <td>swapo ' oshana regional coordinator , samuel n...</td>\n",
       "      <td>0.283333</td>\n",
       "      <td>0.025000</td>\n",
       "    </tr>\n",
       "    <tr>\n",
       "      <th>146</th>\n",
       "      <td>146</td>\n",
       "      <td>2022-04-19 09:17:45</td>\n",
       "      <td>AsserNtinda</td>\n",
       "      <td>Windhoek, Namibia</td>\n",
       "      <td>cde , ask pres question prepare swapo elective...</td>\n",
       "      <td>0.416667</td>\n",
       "      <td>-0.018750</td>\n",
       "    </tr>\n",
       "    <tr>\n",
       "      <th>147</th>\n",
       "      <td>147</td>\n",
       "      <td>2022-04-19 09:14:58</td>\n",
       "      <td>Daaalllas</td>\n",
       "      <td>Namibia</td>\n",
       "      <td>vulnerable people getting vouchers use agra in...</td>\n",
       "      <td>0.500000</td>\n",
       "      <td>-0.500000</td>\n",
       "    </tr>\n",
       "  </tbody>\n",
       "</table>\n",
       "<p>148 rows × 7 columns</p>\n",
       "</div>"
      ],
      "text/plain": [
       "     Unnamed: 0                 Time           User           Location  \\\n",
       "0             0  2022-04-27 05:22:43        lamek94          Windhoek    \n",
       "1             1  2022-04-27 03:00:06        sinut69            Namibia   \n",
       "2             2  2022-04-26 21:47:25  __evuleMoses_           oshakati   \n",
       "3             3  2022-04-26 20:47:28  journeyman_94            Namibia   \n",
       "4             4  2022-04-26 20:46:52   _EierKlitser            Namibia   \n",
       "..          ...                  ...            ...                ...   \n",
       "143         143  2022-04-19 09:42:44   SilasNdakolo            Namibia   \n",
       "144         144  2022-04-19 09:31:50        MevrouS            Namibia   \n",
       "145         145  2022-04-19 09:27:59     EagleFMNam            Namibia   \n",
       "146         146  2022-04-19 09:17:45    AsserNtinda  Windhoek, Namibia   \n",
       "147         147  2022-04-19 09:14:58      Daaalllas            Namibia   \n",
       "\n",
       "                                                 Tweet  subjectivity  polarity  \n",
       "0    must blame mr ekandjo ! everything belong swapo .      0.000000  0.000000  \n",
       "1    call national flag say belong swapo ? contradi...      0.000000  0.000000  \n",
       "2    immanuel benefits swapo wants stay power till ...      0.500000 -0.150000  \n",
       "3                     swanu flag inspired swapo flag ?      0.000000  0.000000  \n",
       "4    swapo wants rule enrich pockets like pm. kak b...      0.100000  0.200000  \n",
       "..                                                 ...           ...       ...  \n",
       "143  blame public relations team swapo , tell good ...      0.333333  0.350000  \n",
       "144  mekondjo cases , complaints even taken serious...      0.316667 -0.308333  \n",
       "145  swapo ' oshana regional coordinator , samuel n...      0.283333  0.025000  \n",
       "146  cde , ask pres question prepare swapo elective...      0.416667 -0.018750  \n",
       "147  vulnerable people getting vouchers use agra in...      0.500000 -0.500000  \n",
       "\n",
       "[148 rows x 7 columns]"
      ]
     },
     "execution_count": 31,
     "metadata": {},
     "output_type": "execute_result"
    }
   ],
   "source": [
    "df['subjectivity'] = df['Tweet'].apply(getSubjectivity)\n",
    "df['polarity'] = df['Tweet'].apply(getPolarity)\n",
    "\n",
    "df"
   ]
  },
  {
   "cell_type": "code",
   "execution_count": null,
   "id": "c04f610b-9b8e-4355-bde6-fdc03e44f4c3",
   "metadata": {},
   "outputs": [],
   "source": [
    "def get_sentiment_label(score):\n",
    "    if score < 0:\n",
    "        return 'Negative'\n",
    "    elif score == 0:\n",
    "        return 'Neutral'\n",
    "    else:\n",
    "        return 'Positive'    "
   ]
  },
  {
   "cell_type": "code",
   "execution_count": null,
   "id": "a0a88257-fcce-4bb9-9999-ba78d07f0d52",
   "metadata": {},
   "outputs": [
    {
     "data": {
      "text/html": [
       "<div>\n",
       "<style scoped>\n",
       "    .dataframe tbody tr th:only-of-type {\n",
       "        vertical-align: middle;\n",
       "    }\n",
       "\n",
       "    .dataframe tbody tr th {\n",
       "        vertical-align: top;\n",
       "    }\n",
       "\n",
       "    .dataframe thead th {\n",
       "        text-align: right;\n",
       "    }\n",
       "</style>\n",
       "<table border=\"1\" class=\"dataframe\">\n",
       "  <thead>\n",
       "    <tr style=\"text-align: right;\">\n",
       "      <th></th>\n",
       "      <th>Unnamed: 0</th>\n",
       "      <th>Time</th>\n",
       "      <th>User</th>\n",
       "      <th>Location</th>\n",
       "      <th>Tweet</th>\n",
       "      <th>subjectivity</th>\n",
       "      <th>polarity</th>\n",
       "      <th>TBsentiment</th>\n",
       "      <th>vader_compound</th>\n",
       "      <th>VADERsentiment</th>\n",
       "    </tr>\n",
       "  </thead>\n",
       "  <tbody>\n",
       "    <tr>\n",
       "      <th>0</th>\n",
       "      <td>0</td>\n",
       "      <td>2022-04-27 05:22:43</td>\n",
       "      <td>lamek94</td>\n",
       "      <td>Windhoek</td>\n",
       "      <td>must blame mr ekandjo ! everything belong swapo .</td>\n",
       "      <td>0.000000</td>\n",
       "      <td>0.000000</td>\n",
       "      <td>Neutral</td>\n",
       "      <td>-0.4003</td>\n",
       "      <td>Negative</td>\n",
       "    </tr>\n",
       "    <tr>\n",
       "      <th>1</th>\n",
       "      <td>1</td>\n",
       "      <td>2022-04-27 03:00:06</td>\n",
       "      <td>sinut69</td>\n",
       "      <td>Namibia</td>\n",
       "      <td>call national flag say belong swapo ? contradi...</td>\n",
       "      <td>0.000000</td>\n",
       "      <td>0.000000</td>\n",
       "      <td>Neutral</td>\n",
       "      <td>-0.2500</td>\n",
       "      <td>Negative</td>\n",
       "    </tr>\n",
       "    <tr>\n",
       "      <th>2</th>\n",
       "      <td>2</td>\n",
       "      <td>2022-04-26 21:47:25</td>\n",
       "      <td>__evuleMoses_</td>\n",
       "      <td>oshakati</td>\n",
       "      <td>immanuel benefits swapo wants stay power till ...</td>\n",
       "      <td>0.500000</td>\n",
       "      <td>-0.150000</td>\n",
       "      <td>Negative</td>\n",
       "      <td>0.1531</td>\n",
       "      <td>Positive</td>\n",
       "    </tr>\n",
       "    <tr>\n",
       "      <th>3</th>\n",
       "      <td>3</td>\n",
       "      <td>2022-04-26 20:47:28</td>\n",
       "      <td>journeyman_94</td>\n",
       "      <td>Namibia</td>\n",
       "      <td>swanu flag inspired swapo flag ?</td>\n",
       "      <td>0.000000</td>\n",
       "      <td>0.000000</td>\n",
       "      <td>Neutral</td>\n",
       "      <td>0.4939</td>\n",
       "      <td>Positive</td>\n",
       "    </tr>\n",
       "    <tr>\n",
       "      <th>4</th>\n",
       "      <td>4</td>\n",
       "      <td>2022-04-26 20:46:52</td>\n",
       "      <td>_EierKlitser</td>\n",
       "      <td>Namibia</td>\n",
       "      <td>swapo wants rule enrich pockets like pm. kak b...</td>\n",
       "      <td>0.100000</td>\n",
       "      <td>0.200000</td>\n",
       "      <td>Positive</td>\n",
       "      <td>0.1027</td>\n",
       "      <td>Positive</td>\n",
       "    </tr>\n",
       "    <tr>\n",
       "      <th>...</th>\n",
       "      <td>...</td>\n",
       "      <td>...</td>\n",
       "      <td>...</td>\n",
       "      <td>...</td>\n",
       "      <td>...</td>\n",
       "      <td>...</td>\n",
       "      <td>...</td>\n",
       "      <td>...</td>\n",
       "      <td>...</td>\n",
       "      <td>...</td>\n",
       "    </tr>\n",
       "    <tr>\n",
       "      <th>143</th>\n",
       "      <td>143</td>\n",
       "      <td>2022-04-19 09:42:44</td>\n",
       "      <td>SilasNdakolo</td>\n",
       "      <td>Namibia</td>\n",
       "      <td>blame public relations team swapo , tell good ...</td>\n",
       "      <td>0.333333</td>\n",
       "      <td>0.350000</td>\n",
       "      <td>Positive</td>\n",
       "      <td>0.1280</td>\n",
       "      <td>Positive</td>\n",
       "    </tr>\n",
       "    <tr>\n",
       "      <th>144</th>\n",
       "      <td>144</td>\n",
       "      <td>2022-04-19 09:31:50</td>\n",
       "      <td>MevrouS</td>\n",
       "      <td>Namibia</td>\n",
       "      <td>mekondjo cases , complaints even taken serious...</td>\n",
       "      <td>0.316667</td>\n",
       "      <td>-0.308333</td>\n",
       "      <td>Negative</td>\n",
       "      <td>-0.8779</td>\n",
       "      <td>Negative</td>\n",
       "    </tr>\n",
       "    <tr>\n",
       "      <th>145</th>\n",
       "      <td>145</td>\n",
       "      <td>2022-04-19 09:27:59</td>\n",
       "      <td>EagleFMNam</td>\n",
       "      <td>Namibia</td>\n",
       "      <td>swapo ' oshana regional coordinator , samuel n...</td>\n",
       "      <td>0.283333</td>\n",
       "      <td>0.025000</td>\n",
       "      <td>Positive</td>\n",
       "      <td>0.1779</td>\n",
       "      <td>Positive</td>\n",
       "    </tr>\n",
       "    <tr>\n",
       "      <th>146</th>\n",
       "      <td>146</td>\n",
       "      <td>2022-04-19 09:17:45</td>\n",
       "      <td>AsserNtinda</td>\n",
       "      <td>Windhoek, Namibia</td>\n",
       "      <td>cde , ask pres question prepare swapo elective...</td>\n",
       "      <td>0.416667</td>\n",
       "      <td>-0.018750</td>\n",
       "      <td>Negative</td>\n",
       "      <td>0.5848</td>\n",
       "      <td>Positive</td>\n",
       "    </tr>\n",
       "    <tr>\n",
       "      <th>147</th>\n",
       "      <td>147</td>\n",
       "      <td>2022-04-19 09:14:58</td>\n",
       "      <td>Daaalllas</td>\n",
       "      <td>Namibia</td>\n",
       "      <td>vulnerable people getting vouchers use agra in...</td>\n",
       "      <td>0.500000</td>\n",
       "      <td>-0.500000</td>\n",
       "      <td>Negative</td>\n",
       "      <td>-0.1431</td>\n",
       "      <td>Negative</td>\n",
       "    </tr>\n",
       "  </tbody>\n",
       "</table>\n",
       "<p>148 rows × 10 columns</p>\n",
       "</div>"
      ],
      "text/plain": [
       "     Unnamed: 0                 Time           User           Location  \\\n",
       "0             0  2022-04-27 05:22:43        lamek94          Windhoek    \n",
       "1             1  2022-04-27 03:00:06        sinut69            Namibia   \n",
       "2             2  2022-04-26 21:47:25  __evuleMoses_           oshakati   \n",
       "3             3  2022-04-26 20:47:28  journeyman_94            Namibia   \n",
       "4             4  2022-04-26 20:46:52   _EierKlitser            Namibia   \n",
       "..          ...                  ...            ...                ...   \n",
       "143         143  2022-04-19 09:42:44   SilasNdakolo            Namibia   \n",
       "144         144  2022-04-19 09:31:50        MevrouS            Namibia   \n",
       "145         145  2022-04-19 09:27:59     EagleFMNam            Namibia   \n",
       "146         146  2022-04-19 09:17:45    AsserNtinda  Windhoek, Namibia   \n",
       "147         147  2022-04-19 09:14:58      Daaalllas            Namibia   \n",
       "\n",
       "                                                 Tweet  subjectivity  \\\n",
       "0    must blame mr ekandjo ! everything belong swapo .      0.000000   \n",
       "1    call national flag say belong swapo ? contradi...      0.000000   \n",
       "2    immanuel benefits swapo wants stay power till ...      0.500000   \n",
       "3                     swanu flag inspired swapo flag ?      0.000000   \n",
       "4    swapo wants rule enrich pockets like pm. kak b...      0.100000   \n",
       "..                                                 ...           ...   \n",
       "143  blame public relations team swapo , tell good ...      0.333333   \n",
       "144  mekondjo cases , complaints even taken serious...      0.316667   \n",
       "145  swapo ' oshana regional coordinator , samuel n...      0.283333   \n",
       "146  cde , ask pres question prepare swapo elective...      0.416667   \n",
       "147  vulnerable people getting vouchers use agra in...      0.500000   \n",
       "\n",
       "     polarity TBsentiment  vader_compound VADERsentiment  \n",
       "0    0.000000     Neutral         -0.4003       Negative  \n",
       "1    0.000000     Neutral         -0.2500       Negative  \n",
       "2   -0.150000    Negative          0.1531       Positive  \n",
       "3    0.000000     Neutral          0.4939       Positive  \n",
       "4    0.200000    Positive          0.1027       Positive  \n",
       "..        ...         ...             ...            ...  \n",
       "143  0.350000    Positive          0.1280       Positive  \n",
       "144 -0.308333    Negative         -0.8779       Negative  \n",
       "145  0.025000    Positive          0.1779       Positive  \n",
       "146 -0.018750    Negative          0.5848       Positive  \n",
       "147 -0.500000    Negative         -0.1431       Negative  \n",
       "\n",
       "[148 rows x 10 columns]"
      ]
     },
     "execution_count": 71,
     "metadata": {},
     "output_type": "execute_result"
    }
   ],
   "source": [
    "df['TBsentiment'] = df['polarity'].apply(get_sentiment_label)\n",
    "df"
   ]
  },
  {
   "cell_type": "code",
   "execution_count": 34,
   "id": "eec42f10-2f13-4837-92dc-2f0f0d2d4f43",
   "metadata": {},
   "outputs": [
    {
     "data": {
      "text/plain": [
       "Positive    52\n",
       "Neutral     50\n",
       "Negative    46\n",
       "Name: TBsentiment, dtype: int64"
      ]
     },
     "execution_count": 34,
     "metadata": {},
     "output_type": "execute_result"
    }
   ],
   "source": [
    "df['TBsentiment'].value_counts()"
   ]
  },
  {
   "cell_type": "code",
   "execution_count": 35,
   "id": "45ed747c-5606-43d9-bacb-fc406ffdb1b3",
   "metadata": {},
   "outputs": [],
   "source": [
    "sorted_df = df.sort_values(by=['polarity'], ascending=False)"
   ]
  },
  {
   "cell_type": "code",
   "execution_count": 36,
   "id": "a7d85b1b-6223-4116-86e9-113628545cfd",
   "metadata": {},
   "outputs": [
    {
     "data": {
      "text/html": [
       "        <script type=\"text/javascript\">\n",
       "        window.PlotlyConfig = {MathJaxConfig: 'local'};\n",
       "        if (window.MathJax) {MathJax.Hub.Config({SVG: {font: \"STIX-Web\"}});}\n",
       "        if (typeof require !== 'undefined') {\n",
       "        require.undef(\"plotly\");\n",
       "        requirejs.config({\n",
       "            paths: {\n",
       "                'plotly': ['https://cdn.plot.ly/plotly-latest.min']\n",
       "            }\n",
       "        });\n",
       "        require(['plotly'], function(Plotly) {\n",
       "            window._Plotly = Plotly;\n",
       "        });\n",
       "        }\n",
       "        </script>\n",
       "        "
      ]
     },
     "metadata": {},
     "output_type": "display_data"
    }
   ],
   "source": [
    "init_notebook_mode(connected=True)"
   ]
  },
  {
   "cell_type": "code",
   "execution_count": 37,
   "id": "df03f043-db45-434f-890d-7982beac1f21",
   "metadata": {},
   "outputs": [],
   "source": [
    "fig = px.scatter(df, x=\"polarity\", y=\"subjectivity\", hover_data=['Tweet'],\n",
    "                 title=\"TextBlob Sentiment Analysis\")"
   ]
  },
  {
   "cell_type": "code",
   "execution_count": 38,
   "id": "d1fcbad3-90a8-4321-81e7-c49472a56f84",
   "metadata": {},
   "outputs": [
    {
     "data": {
      "application/vnd.plotly.v1+json": {
       "config": {
        "plotlyServerURL": "https://plot.ly"
       },
       "data": [
        {
         "customdata": [
          [
           "must blame mr ekandjo ! everything belong swapo ."
          ],
          [
           "call national flag say belong swapo ? contradiction ."
          ],
          [
           "immanuel benefits swapo wants stay power till jesus comes . saara co ' see anything wrong , heads ' well oiled machine. ship sank already , ' drawing ."
          ],
          [
           "swanu flag inspired swapo flag ?"
          ],
          [
           "swapo wants rule enrich pockets like pm. kak biased shows ."
          ],
          [
           "swapo want claim namibia flag belongs party still named south west africa ? serious , name would changed 1990 nampo problem swapo think citizens serve instead serving people ."
          ],
          [
           "swapo go hell sowaar done ' fact useless president thank since national flag belong swapo utter nonsense let power get heads shit comes mouth"
          ],
          [
           "mad ... swapo namibia"
          ],
          [
           "992 woman babelaas ... swapo gone dogs ... long overdue ... saara must go retirement outapi ..."
          ],
          [
           "swapo ' flag belongs ?"
          ],
          [
           "one knows jesus ? confusing whole thing outapi clique thievery. spoilt swapo thinking rule forever jesus comes . ' read article one thing certain , last kicks dying zebra , horse , shamefull"
          ],
          [
           "forcing people ... unfair distribution resources country. never go swapo ."
          ],
          [
           "swapo elite becoming desperate understand days over. namibians enough corruption. appealing christian superstition going save swapo 2024 ."
          ],
          [
           "swapo , put people swapo power ? national flag national flag , swapo given power create it. words democratically right echo. leaders focus serving people want power , self identity"
          ],
          [
           "atleast within swapo give power youth , since independence old people recycled one ministry another ."
          ],
          [
           "opposition parties warpath prime minister saara kuugongelwa amadhila took leaf former south african president jacob zuma ' political playbook saying swapo kept power jesus returns."
          ],
          [
           "day swapo lose elections , historical upset time. swear day shall come soon gonna believe happened. mark date ! ! ! way mock jesus way , embrassed ."
          ],
          [
           "something last election ruled unconstitutional yet hage charge swapo ruling party shows depth corruption within borders among politicians literally screwed like real"
          ],
          [
           "whilst swapo rulers living lavishly families cronies , many sold namibian resources bronze platter , stealing country bankrupt telling us money , enjoying lavish celebrations. people ' pensions"
          ],
          [
           "words come bite her. ask meme kahungu said windhoek mayoral leadership swapo. today ?"
          ],
          [
           "swapo running away corruption like"
          ],
          [
           "support swapo jesus came , briefly explain ? 55marks"
          ],
          [
           "immanuel swapo already failed nation. 32 years independence , 1.6 millions people ' living poverty. unless want power self enrichment purposes ..."
          ],
          [
           "namibian exile kids association neka launched strategic plan 2022 2024 includes one goals attaining affiliation membership swapo."
          ],
          [
           "swapo broken organization needs fixer like olivia pope .... sadly plans change things still eating stealing"
          ],
          [
           "forget ... time ! swapo two years ."
          ],
          [
           "thing keep swapo power votes otherwise , ' cooking"
          ],
          [
           "sands whole swapo hell right?? ? dont think juses likes criminals ."
          ],
          [
           "swapo day story past like jesus."
          ],
          [
           "swapo broken organization needs fixer like olivia pope"
          ],
          [
           "allow swapo defeated jesus comes back , prime minister saara kuugongelwa amadhila recently said. get today ' issue namibian more."
          ],
          [
           "mee saara ! jesus came back 2019 swapo lost two thirds majority many municipalities. wake calls. love swapo , unless swapo mends broken fences seals leaky roofs , worst come. many people think differently swapo today."
          ],
          [
           "lmk really stupid swapo people shame using jesus name ashame people namibia .. ! ! ! thugs thats are. ! ! !"
          ],
          [
           "choice give end swapo"
          ],
          [
           "' high time swapo government stop ' decided rule amongst otjiherero speaking speaking community , swapo different apartheid ..."
          ],
          [
           "swapo ruined beautiful nation"
          ],
          [
           "veteran diplomat kaire mbuende elected new district secretary swapo party elders council okorukambe district , omaheke region. spec secretary mukwaita shanyengana confirmed. mbuende replaces omaheke governor pijoo nganate."
          ],
          [
           "restructuring process weekend , swapo party elders council okorukambe district elected dr kaire mbuende secretary , magdalena risuro mobiliser , hendrik nuseb party elders ' council treasurer."
          ],
          [
           "made remarks okatana oshana region 62nd swapo party anniversary celebrations. #nbcnews #nbcdstv282 #nbcdigitalnews"
          ],
          [
           "swapo party politburo central committee member , saara kuugongelwa amadhila urged fellow party members supporters allow controlled opposition. #nbcnews #nbcdstv282 #nbcdigitalnews"
          ],
          [
           "might join swapo"
          ],
          [
           "love ndilimani songs. even hate swapo. ideological differences leaders helm party. madam headquarters particular"
          ],
          [
           "rikki tikki air force army conducted joint training order counter future incursions swapo. alongside formations mirages flown around conducting cas trainings army recently got several grk mortars , test fired today success."
          ],
          [
           "heading next swapo rally score small small tender"
          ],
          [
           "even hate swapo , ndilimani songs comes ' sing along bossa"
          ],
          [
           "engaged spontaneous walkabout residents tsumeb , including school learners. teacher early 1960s tsumeb home joined swapo here. holds special place heart thank residents love warm , spontaneous reception."
          ],
          [
           "tsumeb holds special place life president geingob town president worked school teacher early 1960s left exile fight freedom. also town joined swapo ."
          ],
          [
           "nowadays people ' want associated anything resembles swapo."
          ],
          [
           "rikki tikki saaf aircraft reportedly bombed several key swapo positions around called ovamboland kavangoland bantustans. mirages seen conducting air sorties swapo logistic sites , killing several crippling supply routes."
          ],
          [
           "welcome swapo"
          ],
          [
           "swapo members swapo party kharas region celebrated party ' 62nd birthday anniversary keetmanshoop. swapo party liberation struggle stalwart ben boys delivered keynote address. report luqman cloete #nbcnews #nbcdstv282 #nbcdigitalnews"
          ],
          [
           "poor man , ndishishi , kapofi simataa zimbabwean cogorts brought sme bank ' knees leaving luxuries courtesy swapo government poor guy must suffer much. hypocrisy justice capitalist systems adopted default .."
          ],
          [
           "omuna ondumbo ..... amushelelo ryt thing us non swapo"
          ],
          [
           "bread winner current national situation affairs , motivate family members vote. right activist. help activists. #arsenal #manunited #swapo #nationalassembly #nato #activist"
          ],
          [
           "' good voted ipc lpm , rest history come 2024 , people vote vote swapo dictators hungered blind power ..."
          ],
          [
           "immanuel low swapo go oshili ! man need stop .its unacceptable"
          ],
          [
           "founding president main speaker swapo party birthday celebration tomorrow omusati region , yaholike efeni omusamane afudhepo , hes fragile ."
          ],
          [
           "mutorwa high echelons swapo constituencies kavango regions dire state backwardness , singing semaa uuulipeni , swapo rallies , people must wake smell coffee.else ' also easy understand , mutorwa look belly"
          ],
          [
           "future ama 20s telling history thier kids like white people colonise parents 1990 swapo took also colonise us .."
          ],
          [
           "swapo party week send delegation germany engage country ' government different issues."
          ],
          [
           "swapo keeping tight lid details regarding trip berlin , germany , party officials , amid talks genocide subject agenda."
          ],
          [
           "pave way young meme doctor hilary mare liberation stalwart , swapo icon namibia first female doctor , dr libertine inaviposa amathila popularly known meme doctor said swapo must pass"
          ],
          [
           "still part system ' even amazed pampering words tell ' swapo things turning blind retirement must fall , want say never seen differences ? must wake swapo"
          ],
          [
           "god ' reply swapo ' independence antics"
          ],
          [
           "sure swapo bar edundja. structure looks familiar lots bars north"
          ],
          [
           "cde lot zimbo ' engineers working engineering consulting companies. could offered better design. remember volvo incident 11 mill gt 4 mil. swapo"
          ],
          [
           "swapo leaders fishing permit poor besides ' pilchard fish ocean god"
          ],
          [
           "correct , want stay even walk knees , ' majority namibians living standards going , chaise.swapo driving country dungeons , today ' money , seriously. ministers cohorts lives nicely"
          ],
          [
           "swapo"
          ],
          [
           ", state swapo money ?"
          ],
          [
           "neff get lot people voting 2024 elections. right commendable tackling things swapo others ignored 30 years. exploitation local people foreigners"
          ],
          [
           "money like swapo"
          ],
          [
           "surprise , shocked , normal napo swapo government ."
          ],
          [
           "guys lunch room builders contractors , sure swapo bad say , let give chance let give sometime"
          ],
          [
           "building swapo offices int districts ?"
          ],
          [
           "former cabinet minister erkki nghimtina says spent n 300 000 n 400 000 build swapo district office edundja village ohangwena region."
          ],
          [
           "immanuel pity pg one telling us money lost instead asking look , fima , iha twiilongosha ndishi , swapo killing country"
          ],
          [
           "support comes anc alliance ssn sdc may refuse acknowledge. government fails give kind support may long like zanu pf , bdp , pf swapo bothered levels ."
          ],
          [
           "police kavango east region stopped move residents mashare constituency forcefully close councillor ' office. residents accused constituency swapo party councillor philipus mavara incompetency , allegedly failed ..."
          ],
          [
           "nbc useless , employee went strike last year several times. worried reporting matter. obviously nbc would wish namibian see ' something wrong neff doing. nbc like swapo represent interest ."
          ],
          [
           "swapo secretary general sophia shaningwa described 19 deadly virus , greatly affected ruling party financially."
          ],
          [
           "civil servants , ' forget failed , corrupt bankrupt hage geingob administration us. deserve pay rise economic troubling times ' it. ever vote swapo , suffer forever. change painful worth ."
          ],
          [
           "namibia , nation ' best interests heart like help people , automatically enemy swapo ."
          ],
          [
           "reason celebrate , zero millionaire. swapo transforming guys life ."
          ],
          [
           "education system collapsed way back swapo gave useless people , dr abraham"
          ],
          [
           "onawa , jumping , left center , jus let swapo"
          ],
          [
           "swapo mp national assembly dr. tobie aupindi says mining sector potential increase revenue create new industries. however , raised concern budget allocation ministry mines energy enough. #nbcnews"
          ],
          [
           "join swapo become millionaire 10 days"
          ],
          [
           "kalimbwe swapo never worked opposition lusaka oust unip. must selective learn past generation ."
          ],
          [
           "blame swapo"
          ],
          [
           "gucci swapo"
          ],
          [
           "always stubborn people vote swapo , ' reason ' going forward. popyeni noonyokulu also please tired"
          ],
          [
           "swapo united , hard work ahead 32 years later still singing song ?"
          ],
          [
           "' allow anyone make us hate house swapo home"
          ],
          [
           "today opo transformed swapo make inclusive namibian organization instead regional organization. therefore celebrate 62 years people party. happy 62 birthday vanguard people party. swapo united hard work ahead ."
          ],
          [
           "' leather store access park cpt near kc sell swapo leather jackets ! random !"
          ],
          [
           "' say , swapo really fumbled bag selling jackets. drip never denied"
          ],
          [
           "tuesday , swapo president hage geingob said ruling party ' governance efforts past 32 years since independence ensured banishment spectre apartheid brutality. added still needs done ensure"
          ],
          [
           "kalimbwe anc , zapu swapo spent time crime lusaka , robbing amd murdering citizens ?"
          ],
          [
           "founding president sam nujoma called swapo party women council transform formidable force reckoned namibian society far women children matters concerned."
          ],
          [
           "president hage geingob yesterday waxed lyrical achievement ruling party swapo turned 62 yesterday retired party veterans argued former liberation movement become economic opportunism corruption."
          ],
          [
           "anc , swapo zanu pf losing support bases. people fed unemployment , corruption nepotism"
          ],
          [
           "eagle fm talks helmut angula swapo past , present future. join wonder 16h30 18h30 home run today."
          ],
          [
           "swapo secretary general sophia shaningwa hit back questioning defence party , official opening swapo ' oshikango district office tuesday afternoon."
          ],
          [
           "like egg vali ? thought swapo solid rock !"
          ],
          [
           "safe except swapo filter. redder flag .."
          ],
          [
           "morning. president need help country namibia . ' poverty corruption swapo government . oil gas resources poor namibia suffering. help us itearm development country please"
          ],
          [
           "sleeping cattles foods still going make noise saying viva swapo viva hage using smll amount energy tht got eating 1 spoon soft porridge hon hage others eating want , sleeping upstairs ?"
          ],
          [
           "mesophia se otuna manga eproblem domanchester united , swapo well hold"
          ],
          [
           "swapo headcounters"
          ],
          [
           "shackez95 know swapo member please meme"
          ],
          [
           "swapo elimo nayi ku hage lou lou , made plan show nuuyoma true king is. ' blindly follow sinking ship"
          ],
          [
           "way go , boers spoed swapo nunw 32 good years , viva brave son namibia standing poor black compatriots mistreated capitalist whilst black elites grn eating whites foreigners , ranga , muniaro"
          ],
          [
           "straightforward message , line popular general mood continent self determination national independence swapo party formed , progressive liberation movement ."
          ],
          [
           "shackez95 treat swapo like egg"
          ],
          [
           "swapo myth one day"
          ],
          [
           "message excellency dr. , president republic namibia president swapo party occasion 62nd anniversary swapo party #onlyswapo #swapo #swapo62"
          ],
          [
           "neeh man already man stop swapo"
          ],
          [
           "ano swapo require much defending ?"
          ],
          [
           "happy birthday mighty swapo party .."
          ],
          [
           "swapo secretary general sophia shaningwa says swapo treated care like egg."
          ],
          [
           "tweet reveal swapo supporters anyway also want office national headquarters"
          ],
          [
           "swapo party women ' council spwc secretary fransina kahungu committed training future political leaders party today celebrated 62nd birthday."
          ],
          [
           "namibians , swapo treat namibians like eggs like shit , every week passes insulted swapo dictators , time come , maybe change like dta venaani start eating ruling party time 2024 ..."
          ],
          [
           "start treating swapo like egg know someone aromat"
          ],
          [
           "swapo 60 , must retire get penjen go home"
          ],
          [
           "swapo barcelona"
          ],
          [
           "gave birth group monsters , call swapo leaders tuu ? ?"
          ],
          [
           "happy 62nd birthday swapo party grande old vanguard movement."
          ],
          [
           "swapo handclappers , comrades looking defenders."
          ],
          [
           "last time something good country 1 april 1989. swapo 1 april 1989 misery us future generations. money blood nothing"
          ],
          [
           "symptoms dangerous girlfriend 1. iphone 13 2. natural hair 3. size 5 4. drinks carling black label 5. smokes hubbly 6. tattoos chest 7. swapo filter"
          ],
          [
           "today opo transformed swapo make inclusive namibian organization instead regional organization. therefore celebrate 62 years people party. happy 62 birthday vanguard people party. swapo united hard work ahead."
          ],
          [
           "meme sg must stop tippytoeing come say chest swapo need calibre ar activists. ' known fact celebrities proximity power fail defend party , preoccupied stomach ideological political empty heads."
          ],
          [
           "swapo factions oshana region smoke peace pipe eleventh hour regional coordinator samuel nelongo canceled planned party birthday festivities netumbo nandi ndaitwah scheduled key speaker."
          ],
          [
           "swapo grandfather"
          ],
          [
           "china russia cold war time see eye eye. china supported apartheid aligned fnla unita angola war umkhoto wesizwe , swapo , mpla cuba."
          ],
          [
           "party needs real defenders , pretenders. want young people take care party , shaningwa said swapo 62nd anniversary celebrations oshakati sunday. get namibian today !"
          ],
          [
           "mistake thinking everybody worship swapo born free ! !"
          ],
          [
           "swapo turns 62 years today , secretary general sophia shaningwa urged members protect treat party egg become fragile vulnerable due divisions infighting."
          ],
          [
           "swapo founded day"
          ],
          [
           "swapo public relation government public relation. passion whatsoever development narrative , stone face silence. inexplicable. seriously born frees believes whatever written namibian sun etc. impressionable know better ."
          ],
          [
           "swapo secretary general sophia shaningwa said division , factionalism disunity entertained swapo. also warned members party jealously protect it. buy namibian !"
          ],
          [
           "blame public relations team swapo , tell good things swapo done independence. wonder day day basis ."
          ],
          [
           "mekondjo cases , complaints even taken serious government. complained vaccines , vaccinated. complained swapo , vote it. complained swapo yet one majority swapo voters."
          ],
          [
           "swapo ' oshana regional coordinator , samuel nelongo , last friday said would attend drive event sunday , says meeting swapo secretary general sophia shaningwa resolved differences."
          ],
          [
           "cde , ask pres question prepare swapo elective congress held later year , please tell still united slate 2017 congress ? earlier better ! bad ask."
          ],
          [
           "vulnerable people getting vouchers use agra instead drought relief packages doorsteps ? people need spend money transport go shops. swapo people even bother think anymore. even owns aggra ?"
          ]
         ],
         "hovertemplate": "polarity=%{x}<br>subjectivity=%{y}<br>Tweet=%{customdata[0]}<extra></extra>",
         "legendgroup": "",
         "marker": {
          "color": "#636efa",
          "symbol": "circle"
         },
         "mode": "markers",
         "name": "",
         "orientation": "v",
         "showlegend": false,
         "type": "scatter",
         "x": [
          0,
          0,
          -0.15,
          0,
          0.2,
          -0.3333333333333333,
          -0.2333333333333333,
          -0.625,
          -0.05,
          0,
          0.028571428571428574,
          -0.5,
          0.07,
          0.2857142857142857,
          0.1,
          0,
          0,
          0.1,
          0.5,
          0,
          0,
          0,
          -0.5,
          0,
          -0.45,
          0,
          0,
          0.24285714285714285,
          -0.25,
          -0.4,
          0.16666666666666666,
          0.014285714285714282,
          -1,
          0,
          0.08,
          0.85,
          0.1787878787878788,
          0,
          0,
          0,
          0,
          -0.04444444444444446,
          0.075,
          -0.16666666666666666,
          -0.8,
          0.4595238095238095,
          0.1523809523809524,
          0,
          0,
          0.8,
          0.35,
          -0.20000000000000004,
          0,
          0.14285714285714285,
          0.09999999999999998,
          0,
          0.08333333333333333,
          0.2966666666666667,
          0,
          0,
          -0.17261904761904762,
          0.2375,
          -0.5,
          0,
          0.4375,
          0.5,
          -0.4,
          0.13333333333333333,
          0,
          0,
          0.14285714285714285,
          0,
          -0.27499999999999997,
          -0.09999999999999992,
          0,
          -0.05,
          -0.1,
          0.01666666666666666,
          -0.5,
          -0.2,
          0.1625,
          -0.24,
          1,
          0,
          -0.25,
          -0.05,
          0.04545454545454545,
          0,
          -0.25,
          0,
          0,
          -0.4,
          -0.14583333333333334,
          -0.8,
          0.25416666666666665,
          -0.25,
          0.2,
          -0.25,
          -0.1,
          0.1,
          0.1,
          0,
          -0.08333333333333333,
          0.02500000000000001,
          0,
          0.5,
          -0.4,
          0.1,
          0,
          0,
          0,
          -0.07500000000000001,
          0.15333333333333338,
          0.3416666666666666,
          0,
          0,
          0,
          0,
          0.2,
          0.6000000000000001,
          0.05000000000000002,
          0,
          0.11666666666666665,
          -0.2,
          0,
          0,
          0,
          0,
          0.45,
          0,
          0.2333333333333333,
          -0.2222222222222222,
          0.25416666666666665,
          -0.19999999999999998,
          0,
          0,
          -0.6,
          0.1625,
          0.625,
          -0.14375,
          0,
          -0.08666666666666667,
          0.06250000000000003,
          0.35,
          -0.30833333333333335,
          0.02500000000000001,
          -0.01874999999999996,
          -0.5
         ],
         "xaxis": "x",
         "y": [
          0,
          0,
          0.5,
          0,
          0.1,
          0.6666666666666666,
          0.6666666666666666,
          1,
          0.4,
          0,
          0.3595238095238095,
          1,
          0.5700000000000001,
          0.5357142857142857,
          0.2,
          0.03333333333333333,
          0,
          0.18333333333333335,
          0.55,
          0,
          0,
          0.3333333333333333,
          0.3,
          0,
          0.7,
          0,
          0,
          0.46785714285714286,
          0.25,
          0.4,
          0.25,
          0.5142857142857143,
          1,
          0,
          0.57,
          1,
          0.48484848484848486,
          0,
          0,
          0.25,
          0,
          0.611111111111111,
          0.09375,
          0.26666666666666666,
          0.9,
          0.6452380952380953,
          0.2904761904761905,
          0,
          0.3333333333333333,
          0.9,
          0.75,
          0.4666666666666666,
          0,
          0.46785714285714286,
          0.6333333333333333,
          0.3,
          0.41666666666666663,
          0.6866666666666666,
          0.0625,
          0.6,
          0.30952380952380953,
          0.45,
          0.6666666666666666,
          0,
          0.6944444444444444,
          0.5,
          0.6,
          0.8333333333333333,
          0,
          0,
          0.26785714285714285,
          0,
          0.725,
          0.7777777777777777,
          0,
          0.05,
          0.2,
          0.5333333333333333,
          0.3,
          0.3333333333333333,
          0.4125,
          0.5,
          0.3,
          0,
          0.1,
          0.05,
          0.6515151515151515,
          0,
          0.25,
          0,
          0,
          0.7,
          0.2708333333333333,
          0.9,
          0.7708333333333333,
          0.45,
          0.2,
          0.25,
          0.1,
          1,
          0.1,
          0,
          0.125,
          0.25,
          0.1,
          0.5,
          0.6,
          0.35,
          0,
          0,
          0,
          0.6583333333333333,
          0.6133333333333335,
          0.5916666666666667,
          0,
          0,
          0,
          0,
          0.2,
          0.95,
          0.5,
          0,
          0.325,
          0.8,
          0,
          0,
          0,
          0,
          0.6,
          0,
          0.2638888888888889,
          0.5777777777777778,
          0.7708333333333333,
          0.3,
          1,
          0,
          1,
          0.35000000000000003,
          0.8,
          0.46875,
          0,
          0.44000000000000006,
          0.5,
          0.33333333333333337,
          0.31666666666666665,
          0.2833333333333333,
          0.41666666666666663,
          0.5
         ],
         "yaxis": "y"
        }
       ],
       "layout": {
        "autosize": true,
        "legend": {
         "tracegroupgap": 0
        },
        "template": {
         "data": {
          "bar": [
           {
            "error_x": {
             "color": "#2a3f5f"
            },
            "error_y": {
             "color": "#2a3f5f"
            },
            "marker": {
             "line": {
              "color": "#E5ECF6",
              "width": 0.5
             }
            },
            "type": "bar"
           }
          ],
          "barpolar": [
           {
            "marker": {
             "line": {
              "color": "#E5ECF6",
              "width": 0.5
             }
            },
            "type": "barpolar"
           }
          ],
          "carpet": [
           {
            "aaxis": {
             "endlinecolor": "#2a3f5f",
             "gridcolor": "white",
             "linecolor": "white",
             "minorgridcolor": "white",
             "startlinecolor": "#2a3f5f"
            },
            "baxis": {
             "endlinecolor": "#2a3f5f",
             "gridcolor": "white",
             "linecolor": "white",
             "minorgridcolor": "white",
             "startlinecolor": "#2a3f5f"
            },
            "type": "carpet"
           }
          ],
          "choropleth": [
           {
            "colorbar": {
             "outlinewidth": 0,
             "ticks": ""
            },
            "type": "choropleth"
           }
          ],
          "contour": [
           {
            "colorbar": {
             "outlinewidth": 0,
             "ticks": ""
            },
            "colorscale": [
             [
              0,
              "#0d0887"
             ],
             [
              0.1111111111111111,
              "#46039f"
             ],
             [
              0.2222222222222222,
              "#7201a8"
             ],
             [
              0.3333333333333333,
              "#9c179e"
             ],
             [
              0.4444444444444444,
              "#bd3786"
             ],
             [
              0.5555555555555556,
              "#d8576b"
             ],
             [
              0.6666666666666666,
              "#ed7953"
             ],
             [
              0.7777777777777778,
              "#fb9f3a"
             ],
             [
              0.8888888888888888,
              "#fdca26"
             ],
             [
              1,
              "#f0f921"
             ]
            ],
            "type": "contour"
           }
          ],
          "contourcarpet": [
           {
            "colorbar": {
             "outlinewidth": 0,
             "ticks": ""
            },
            "type": "contourcarpet"
           }
          ],
          "heatmap": [
           {
            "colorbar": {
             "outlinewidth": 0,
             "ticks": ""
            },
            "colorscale": [
             [
              0,
              "#0d0887"
             ],
             [
              0.1111111111111111,
              "#46039f"
             ],
             [
              0.2222222222222222,
              "#7201a8"
             ],
             [
              0.3333333333333333,
              "#9c179e"
             ],
             [
              0.4444444444444444,
              "#bd3786"
             ],
             [
              0.5555555555555556,
              "#d8576b"
             ],
             [
              0.6666666666666666,
              "#ed7953"
             ],
             [
              0.7777777777777778,
              "#fb9f3a"
             ],
             [
              0.8888888888888888,
              "#fdca26"
             ],
             [
              1,
              "#f0f921"
             ]
            ],
            "type": "heatmap"
           }
          ],
          "heatmapgl": [
           {
            "colorbar": {
             "outlinewidth": 0,
             "ticks": ""
            },
            "colorscale": [
             [
              0,
              "#0d0887"
             ],
             [
              0.1111111111111111,
              "#46039f"
             ],
             [
              0.2222222222222222,
              "#7201a8"
             ],
             [
              0.3333333333333333,
              "#9c179e"
             ],
             [
              0.4444444444444444,
              "#bd3786"
             ],
             [
              0.5555555555555556,
              "#d8576b"
             ],
             [
              0.6666666666666666,
              "#ed7953"
             ],
             [
              0.7777777777777778,
              "#fb9f3a"
             ],
             [
              0.8888888888888888,
              "#fdca26"
             ],
             [
              1,
              "#f0f921"
             ]
            ],
            "type": "heatmapgl"
           }
          ],
          "histogram": [
           {
            "marker": {
             "colorbar": {
              "outlinewidth": 0,
              "ticks": ""
             }
            },
            "type": "histogram"
           }
          ],
          "histogram2d": [
           {
            "colorbar": {
             "outlinewidth": 0,
             "ticks": ""
            },
            "colorscale": [
             [
              0,
              "#0d0887"
             ],
             [
              0.1111111111111111,
              "#46039f"
             ],
             [
              0.2222222222222222,
              "#7201a8"
             ],
             [
              0.3333333333333333,
              "#9c179e"
             ],
             [
              0.4444444444444444,
              "#bd3786"
             ],
             [
              0.5555555555555556,
              "#d8576b"
             ],
             [
              0.6666666666666666,
              "#ed7953"
             ],
             [
              0.7777777777777778,
              "#fb9f3a"
             ],
             [
              0.8888888888888888,
              "#fdca26"
             ],
             [
              1,
              "#f0f921"
             ]
            ],
            "type": "histogram2d"
           }
          ],
          "histogram2dcontour": [
           {
            "colorbar": {
             "outlinewidth": 0,
             "ticks": ""
            },
            "colorscale": [
             [
              0,
              "#0d0887"
             ],
             [
              0.1111111111111111,
              "#46039f"
             ],
             [
              0.2222222222222222,
              "#7201a8"
             ],
             [
              0.3333333333333333,
              "#9c179e"
             ],
             [
              0.4444444444444444,
              "#bd3786"
             ],
             [
              0.5555555555555556,
              "#d8576b"
             ],
             [
              0.6666666666666666,
              "#ed7953"
             ],
             [
              0.7777777777777778,
              "#fb9f3a"
             ],
             [
              0.8888888888888888,
              "#fdca26"
             ],
             [
              1,
              "#f0f921"
             ]
            ],
            "type": "histogram2dcontour"
           }
          ],
          "mesh3d": [
           {
            "colorbar": {
             "outlinewidth": 0,
             "ticks": ""
            },
            "type": "mesh3d"
           }
          ],
          "parcoords": [
           {
            "line": {
             "colorbar": {
              "outlinewidth": 0,
              "ticks": ""
             }
            },
            "type": "parcoords"
           }
          ],
          "pie": [
           {
            "automargin": true,
            "type": "pie"
           }
          ],
          "scatter": [
           {
            "marker": {
             "colorbar": {
              "outlinewidth": 0,
              "ticks": ""
             }
            },
            "type": "scatter"
           }
          ],
          "scatter3d": [
           {
            "line": {
             "colorbar": {
              "outlinewidth": 0,
              "ticks": ""
             }
            },
            "marker": {
             "colorbar": {
              "outlinewidth": 0,
              "ticks": ""
             }
            },
            "type": "scatter3d"
           }
          ],
          "scattercarpet": [
           {
            "marker": {
             "colorbar": {
              "outlinewidth": 0,
              "ticks": ""
             }
            },
            "type": "scattercarpet"
           }
          ],
          "scattergeo": [
           {
            "marker": {
             "colorbar": {
              "outlinewidth": 0,
              "ticks": ""
             }
            },
            "type": "scattergeo"
           }
          ],
          "scattergl": [
           {
            "marker": {
             "colorbar": {
              "outlinewidth": 0,
              "ticks": ""
             }
            },
            "type": "scattergl"
           }
          ],
          "scattermapbox": [
           {
            "marker": {
             "colorbar": {
              "outlinewidth": 0,
              "ticks": ""
             }
            },
            "type": "scattermapbox"
           }
          ],
          "scatterpolar": [
           {
            "marker": {
             "colorbar": {
              "outlinewidth": 0,
              "ticks": ""
             }
            },
            "type": "scatterpolar"
           }
          ],
          "scatterpolargl": [
           {
            "marker": {
             "colorbar": {
              "outlinewidth": 0,
              "ticks": ""
             }
            },
            "type": "scatterpolargl"
           }
          ],
          "scatterternary": [
           {
            "marker": {
             "colorbar": {
              "outlinewidth": 0,
              "ticks": ""
             }
            },
            "type": "scatterternary"
           }
          ],
          "surface": [
           {
            "colorbar": {
             "outlinewidth": 0,
             "ticks": ""
            },
            "colorscale": [
             [
              0,
              "#0d0887"
             ],
             [
              0.1111111111111111,
              "#46039f"
             ],
             [
              0.2222222222222222,
              "#7201a8"
             ],
             [
              0.3333333333333333,
              "#9c179e"
             ],
             [
              0.4444444444444444,
              "#bd3786"
             ],
             [
              0.5555555555555556,
              "#d8576b"
             ],
             [
              0.6666666666666666,
              "#ed7953"
             ],
             [
              0.7777777777777778,
              "#fb9f3a"
             ],
             [
              0.8888888888888888,
              "#fdca26"
             ],
             [
              1,
              "#f0f921"
             ]
            ],
            "type": "surface"
           }
          ],
          "table": [
           {
            "cells": {
             "fill": {
              "color": "#EBF0F8"
             },
             "line": {
              "color": "white"
             }
            },
            "header": {
             "fill": {
              "color": "#C8D4E3"
             },
             "line": {
              "color": "white"
             }
            },
            "type": "table"
           }
          ]
         },
         "layout": {
          "annotationdefaults": {
           "arrowcolor": "#2a3f5f",
           "arrowhead": 0,
           "arrowwidth": 1
          },
          "coloraxis": {
           "colorbar": {
            "outlinewidth": 0,
            "ticks": ""
           }
          },
          "colorscale": {
           "diverging": [
            [
             0,
             "#8e0152"
            ],
            [
             0.1,
             "#c51b7d"
            ],
            [
             0.2,
             "#de77ae"
            ],
            [
             0.3,
             "#f1b6da"
            ],
            [
             0.4,
             "#fde0ef"
            ],
            [
             0.5,
             "#f7f7f7"
            ],
            [
             0.6,
             "#e6f5d0"
            ],
            [
             0.7,
             "#b8e186"
            ],
            [
             0.8,
             "#7fbc41"
            ],
            [
             0.9,
             "#4d9221"
            ],
            [
             1,
             "#276419"
            ]
           ],
           "sequential": [
            [
             0,
             "#0d0887"
            ],
            [
             0.1111111111111111,
             "#46039f"
            ],
            [
             0.2222222222222222,
             "#7201a8"
            ],
            [
             0.3333333333333333,
             "#9c179e"
            ],
            [
             0.4444444444444444,
             "#bd3786"
            ],
            [
             0.5555555555555556,
             "#d8576b"
            ],
            [
             0.6666666666666666,
             "#ed7953"
            ],
            [
             0.7777777777777778,
             "#fb9f3a"
            ],
            [
             0.8888888888888888,
             "#fdca26"
            ],
            [
             1,
             "#f0f921"
            ]
           ],
           "sequentialminus": [
            [
             0,
             "#0d0887"
            ],
            [
             0.1111111111111111,
             "#46039f"
            ],
            [
             0.2222222222222222,
             "#7201a8"
            ],
            [
             0.3333333333333333,
             "#9c179e"
            ],
            [
             0.4444444444444444,
             "#bd3786"
            ],
            [
             0.5555555555555556,
             "#d8576b"
            ],
            [
             0.6666666666666666,
             "#ed7953"
            ],
            [
             0.7777777777777778,
             "#fb9f3a"
            ],
            [
             0.8888888888888888,
             "#fdca26"
            ],
            [
             1,
             "#f0f921"
            ]
           ]
          },
          "colorway": [
           "#636efa",
           "#EF553B",
           "#00cc96",
           "#ab63fa",
           "#FFA15A",
           "#19d3f3",
           "#FF6692",
           "#B6E880",
           "#FF97FF",
           "#FECB52"
          ],
          "font": {
           "color": "#2a3f5f"
          },
          "geo": {
           "bgcolor": "white",
           "lakecolor": "white",
           "landcolor": "#E5ECF6",
           "showlakes": true,
           "showland": true,
           "subunitcolor": "white"
          },
          "hoverlabel": {
           "align": "left"
          },
          "hovermode": "closest",
          "mapbox": {
           "style": "light"
          },
          "paper_bgcolor": "white",
          "plot_bgcolor": "#E5ECF6",
          "polar": {
           "angularaxis": {
            "gridcolor": "white",
            "linecolor": "white",
            "ticks": ""
           },
           "bgcolor": "#E5ECF6",
           "radialaxis": {
            "gridcolor": "white",
            "linecolor": "white",
            "ticks": ""
           }
          },
          "scene": {
           "xaxis": {
            "backgroundcolor": "#E5ECF6",
            "gridcolor": "white",
            "gridwidth": 2,
            "linecolor": "white",
            "showbackground": true,
            "ticks": "",
            "zerolinecolor": "white"
           },
           "yaxis": {
            "backgroundcolor": "#E5ECF6",
            "gridcolor": "white",
            "gridwidth": 2,
            "linecolor": "white",
            "showbackground": true,
            "ticks": "",
            "zerolinecolor": "white"
           },
           "zaxis": {
            "backgroundcolor": "#E5ECF6",
            "gridcolor": "white",
            "gridwidth": 2,
            "linecolor": "white",
            "showbackground": true,
            "ticks": "",
            "zerolinecolor": "white"
           }
          },
          "shapedefaults": {
           "line": {
            "color": "#2a3f5f"
           }
          },
          "ternary": {
           "aaxis": {
            "gridcolor": "white",
            "linecolor": "white",
            "ticks": ""
           },
           "baxis": {
            "gridcolor": "white",
            "linecolor": "white",
            "ticks": ""
           },
           "bgcolor": "#E5ECF6",
           "caxis": {
            "gridcolor": "white",
            "linecolor": "white",
            "ticks": ""
           }
          },
          "title": {
           "x": 0.05
          },
          "xaxis": {
           "automargin": true,
           "gridcolor": "white",
           "linecolor": "white",
           "ticks": "",
           "title": {
            "standoff": 15
           },
           "zerolinecolor": "white",
           "zerolinewidth": 2
          },
          "yaxis": {
           "automargin": true,
           "gridcolor": "white",
           "linecolor": "white",
           "ticks": "",
           "title": {
            "standoff": 15
           },
           "zerolinecolor": "white",
           "zerolinewidth": 2
          }
         }
        },
        "title": {
         "text": "TextBlob Sentiment Analysis"
        },
        "xaxis": {
         "anchor": "y",
         "autorange": true,
         "domain": [
          0,
          1
         ],
         "range": [
          -1.1182190378710337,
          1.1182190378710337
         ],
         "title": {
          "text": "polarity"
         },
         "type": "linear"
        },
        "yaxis": {
         "anchor": "x",
         "autorange": true,
         "domain": [
          0,
          1
         ],
         "range": [
          -0.0825242718446602,
          1.0825242718446602
         ],
         "title": {
          "text": "subjectivity"
         },
         "type": "linear"
        }
       }
      },
      "image/png": "[encoded data removed]",
      "text/html": [
       "<div>\n",
       "        \n",
       "        \n",
       "            <div id=\"4b6deb95-df19-499f-a2ea-9940a1eef02b\" class=\"plotly-graph-div\" style=\"height:525px; width:100%;\"></div>\n",
       "            <script type=\"text/javascript\">\n",
       "                require([\"plotly\"], function(Plotly) {\n",
       "                    window.PLOTLYENV=window.PLOTLYENV || {};\n",
       "                    \n",
       "                if (document.getElementById(\"4b6deb95-df19-499f-a2ea-9940a1eef02b\")) {\n",
       "                    Plotly.newPlot(\n",
       "                        '4b6deb95-df19-499f-a2ea-9940a1eef02b',\n",
       "                        [{\"customdata\": [[\"must blame mr ekandjo ! everything belong swapo .\"], [\"call national flag say belong swapo ? contradiction .\"], [\"immanuel benefits swapo wants stay power till jesus comes . saara co ' see anything wrong , heads ' well oiled machine. ship sank already , ' drawing .\"], [\"swanu flag inspired swapo flag ?\"], [\"swapo wants rule enrich pockets like pm. kak biased shows .\"], [\"swapo want claim namibia flag belongs party still named south west africa ? serious , name would changed 1990 nampo problem swapo think citizens serve instead serving people .\"], [\"swapo go hell sowaar done ' fact useless president thank since national flag belong swapo utter nonsense let power get heads shit comes mouth\"], [\"mad ... swapo namibia\"], [\"992 woman babelaas ... swapo gone dogs ... long overdue ... saara must go retirement outapi ...\"], [\"swapo ' flag belongs ?\"], [\"one knows jesus ? confusing whole thing outapi clique thievery. spoilt swapo thinking rule forever jesus comes . ' read article one thing certain , last kicks dying zebra , horse , shamefull\"], [\"forcing people ... unfair distribution resources country. never go swapo .\"], [\"swapo elite becoming desperate understand days over. namibians enough corruption. appealing christian superstition going save swapo 2024 .\"], [\"swapo , put people swapo power ? national flag national flag , swapo given power create it. words democratically right echo. leaders focus serving people want power , self identity\"], [\"atleast within swapo give power youth , since independence old people recycled one ministry another .\"], [\"opposition parties warpath prime minister saara kuugongelwa amadhila took leaf former south african president jacob zuma ' political playbook saying swapo kept power jesus returns.\"], [\"day swapo lose elections , historical upset time. swear day shall come soon gonna believe happened. mark date ! ! ! way mock jesus way , embrassed .\"], [\"something last election ruled unconstitutional yet hage charge swapo ruling party shows depth corruption within borders among politicians literally screwed like real\"], [\"whilst swapo rulers living lavishly families cronies , many sold namibian resources bronze platter , stealing country bankrupt telling us money , enjoying lavish celebrations. people ' pensions\"], [\"words come bite her. ask meme kahungu said windhoek mayoral leadership swapo. today ?\"], [\"swapo running away corruption like\"], [\"support swapo jesus came , briefly explain ? 55marks\"], [\"immanuel swapo already failed nation. 32 years independence , 1.6 millions people ' living poverty. unless want power self enrichment purposes ...\"], [\"namibian exile kids association neka launched strategic plan 2022 2024 includes one goals attaining affiliation membership swapo.\"], [\"swapo broken organization needs fixer like olivia pope .... sadly plans change things still eating stealing\"], [\"forget ... time ! swapo two years .\"], [\"thing keep swapo power votes otherwise , ' cooking\"], [\"sands whole swapo hell right?? ? dont think juses likes criminals .\"], [\"swapo day story past like jesus.\"], [\"swapo broken organization needs fixer like olivia pope\"], [\"allow swapo defeated jesus comes back , prime minister saara kuugongelwa amadhila recently said. get today ' issue namibian more.\"], [\"mee saara ! jesus came back 2019 swapo lost two thirds majority many municipalities. wake calls. love swapo , unless swapo mends broken fences seals leaky roofs , worst come. many people think differently swapo today.\"], [\"lmk really stupid swapo people shame using jesus name ashame people namibia .. ! ! ! thugs thats are. ! ! !\"], [\"choice give end swapo\"], [\"' high time swapo government stop ' decided rule amongst otjiherero speaking speaking community , swapo different apartheid ...\"], [\"swapo ruined beautiful nation\"], [\"veteran diplomat kaire mbuende elected new district secretary swapo party elders council okorukambe district , omaheke region. spec secretary mukwaita shanyengana confirmed. mbuende replaces omaheke governor pijoo nganate.\"], [\"restructuring process weekend , swapo party elders council okorukambe district elected dr kaire mbuende secretary , magdalena risuro mobiliser , hendrik nuseb party elders ' council treasurer.\"], [\"made remarks okatana oshana region 62nd swapo party anniversary celebrations. #nbcnews #nbcdstv282 #nbcdigitalnews\"], [\"swapo party politburo central committee member , saara kuugongelwa amadhila urged fellow party members supporters allow controlled opposition. #nbcnews #nbcdstv282 #nbcdigitalnews\"], [\"might join swapo\"], [\"love ndilimani songs. even hate swapo. ideological differences leaders helm party. madam headquarters particular\"], [\"rikki tikki air force army conducted joint training order counter future incursions swapo. alongside formations mirages flown around conducting cas trainings army recently got several grk mortars , test fired today success.\"], [\"heading next swapo rally score small small tender\"], [\"even hate swapo , ndilimani songs comes ' sing along bossa\"], [\"engaged spontaneous walkabout residents tsumeb , including school learners. teacher early 1960s tsumeb home joined swapo here. holds special place heart thank residents love warm , spontaneous reception.\"], [\"tsumeb holds special place life president geingob town president worked school teacher early 1960s left exile fight freedom. also town joined swapo .\"], [\"nowadays people ' want associated anything resembles swapo.\"], [\"rikki tikki saaf aircraft reportedly bombed several key swapo positions around called ovamboland kavangoland bantustans. mirages seen conducting air sorties swapo logistic sites , killing several crippling supply routes.\"], [\"welcome swapo\"], [\"swapo members swapo party kharas region celebrated party ' 62nd birthday anniversary keetmanshoop. swapo party liberation struggle stalwart ben boys delivered keynote address. report luqman cloete #nbcnews #nbcdstv282 #nbcdigitalnews\"], [\"poor man , ndishishi , kapofi simataa zimbabwean cogorts brought sme bank ' knees leaving luxuries courtesy swapo government poor guy must suffer much. hypocrisy justice capitalist systems adopted default ..\"], [\"omuna ondumbo ..... amushelelo ryt thing us non swapo\"], [\"bread winner current national situation affairs , motivate family members vote. right activist. help activists. #arsenal #manunited #swapo #nationalassembly #nato #activist\"], [\"' good voted ipc lpm , rest history come 2024 , people vote vote swapo dictators hungered blind power ...\"], [\"immanuel low swapo go oshili ! man need stop .its unacceptable\"], [\"founding president main speaker swapo party birthday celebration tomorrow omusati region , yaholike efeni omusamane afudhepo , hes fragile .\"], [\"mutorwa high echelons swapo constituencies kavango regions dire state backwardness , singing semaa uuulipeni , swapo rallies , people must wake smell coffee.else ' also easy understand , mutorwa look belly\"], [\"future ama 20s telling history thier kids like white people colonise parents 1990 swapo took also colonise us ..\"], [\"swapo party week send delegation germany engage country ' government different issues.\"], [\"swapo keeping tight lid details regarding trip berlin , germany , party officials , amid talks genocide subject agenda.\"], [\"pave way young meme doctor hilary mare liberation stalwart , swapo icon namibia first female doctor , dr libertine inaviposa amathila popularly known meme doctor said swapo must pass\"], [\"still part system ' even amazed pampering words tell ' swapo things turning blind retirement must fall , want say never seen differences ? must wake swapo\"], [\"god ' reply swapo ' independence antics\"], [\"sure swapo bar edundja. structure looks familiar lots bars north\"], [\"cde lot zimbo ' engineers working engineering consulting companies. could offered better design. remember volvo incident 11 mill gt 4 mil. swapo\"], [\"swapo leaders fishing permit poor besides ' pilchard fish ocean god\"], [\"correct , want stay even walk knees , ' majority namibians living standards going , chaise.swapo driving country dungeons , today ' money , seriously. ministers cohorts lives nicely\"], [\"swapo\"], [\", state swapo money ?\"], [\"neff get lot people voting 2024 elections. right commendable tackling things swapo others ignored 30 years. exploitation local people foreigners\"], [\"money like swapo\"], [\"surprise , shocked , normal napo swapo government .\"], [\"guys lunch room builders contractors , sure swapo bad say , let give chance let give sometime\"], [\"building swapo offices int districts ?\"], [\"former cabinet minister erkki nghimtina says spent n 300 000 n 400 000 build swapo district office edundja village ohangwena region.\"], [\"immanuel pity pg one telling us money lost instead asking look , fima , iha twiilongosha ndishi , swapo killing country\"], [\"support comes anc alliance ssn sdc may refuse acknowledge. government fails give kind support may long like zanu pf , bdp , pf swapo bothered levels .\"], [\"police kavango east region stopped move residents mashare constituency forcefully close councillor ' office. residents accused constituency swapo party councillor philipus mavara incompetency , allegedly failed ...\"], [\"nbc useless , employee went strike last year several times. worried reporting matter. obviously nbc would wish namibian see ' something wrong neff doing. nbc like swapo represent interest .\"], [\"swapo secretary general sophia shaningwa described 19 deadly virus , greatly affected ruling party financially.\"], [\"civil servants , ' forget failed , corrupt bankrupt hage geingob administration us. deserve pay rise economic troubling times ' it. ever vote swapo , suffer forever. change painful worth .\"], [\"namibia , nation ' best interests heart like help people , automatically enemy swapo .\"], [\"reason celebrate , zero millionaire. swapo transforming guys life .\"], [\"education system collapsed way back swapo gave useless people , dr abraham\"], [\"onawa , jumping , left center , jus let swapo\"], [\"swapo mp national assembly dr. tobie aupindi says mining sector potential increase revenue create new industries. however , raised concern budget allocation ministry mines energy enough. #nbcnews\"], [\"join swapo become millionaire 10 days\"], [\"kalimbwe swapo never worked opposition lusaka oust unip. must selective learn past generation .\"], [\"blame swapo\"], [\"gucci swapo\"], [\"always stubborn people vote swapo , ' reason ' going forward. popyeni noonyokulu also please tired\"], [\"swapo united , hard work ahead 32 years later still singing song ?\"], [\"' allow anyone make us hate house swapo home\"], [\"today opo transformed swapo make inclusive namibian organization instead regional organization. therefore celebrate 62 years people party. happy 62 birthday vanguard people party. swapo united hard work ahead .\"], [\"' leather store access park cpt near kc sell swapo leather jackets ! random !\"], [\"' say , swapo really fumbled bag selling jackets. drip never denied\"], [\"tuesday , swapo president hage geingob said ruling party ' governance efforts past 32 years since independence ensured banishment spectre apartheid brutality. added still needs done ensure\"], [\"kalimbwe anc , zapu swapo spent time crime lusaka , robbing amd murdering citizens ?\"], [\"founding president sam nujoma called swapo party women council transform formidable force reckoned namibian society far women children matters concerned.\"], [\"president hage geingob yesterday waxed lyrical achievement ruling party swapo turned 62 yesterday retired party veterans argued former liberation movement become economic opportunism corruption.\"], [\"anc , swapo zanu pf losing support bases. people fed unemployment , corruption nepotism\"], [\"eagle fm talks helmut angula swapo past , present future. join wonder 16h30 18h30 home run today.\"], [\"swapo secretary general sophia shaningwa hit back questioning defence party , official opening swapo ' oshikango district office tuesday afternoon.\"], [\"like egg vali ? thought swapo solid rock !\"], [\"safe except swapo filter. redder flag ..\"], [\"morning. president need help country namibia . ' poverty corruption swapo government . oil gas resources poor namibia suffering. help us itearm development country please\"], [\"sleeping cattles foods still going make noise saying viva swapo viva hage using smll amount energy tht got eating 1 spoon soft porridge hon hage others eating want , sleeping upstairs ?\"], [\"mesophia se otuna manga eproblem domanchester united , swapo well hold\"], [\"swapo headcounters\"], [\"shackez95 know swapo member please meme\"], [\"swapo elimo nayi ku hage lou lou , made plan show nuuyoma true king is. ' blindly follow sinking ship\"], [\"way go , boers spoed swapo nunw 32 good years , viva brave son namibia standing poor black compatriots mistreated capitalist whilst black elites grn eating whites foreigners , ranga , muniaro\"], [\"straightforward message , line popular general mood continent self determination national independence swapo party formed , progressive liberation movement .\"], [\"shackez95 treat swapo like egg\"], [\"swapo myth one day\"], [\"message excellency dr. , president republic namibia president swapo party occasion 62nd anniversary swapo party #onlyswapo #swapo #swapo62\"], [\"neeh man already man stop swapo\"], [\"ano swapo require much defending ?\"], [\"happy birthday mighty swapo party ..\"], [\"swapo secretary general sophia shaningwa says swapo treated care like egg.\"], [\"tweet reveal swapo supporters anyway also want office national headquarters\"], [\"swapo party women ' council spwc secretary fransina kahungu committed training future political leaders party today celebrated 62nd birthday.\"], [\"namibians , swapo treat namibians like eggs like shit , every week passes insulted swapo dictators , time come , maybe change like dta venaani start eating ruling party time 2024 ...\"], [\"start treating swapo like egg know someone aromat\"], [\"swapo 60 , must retire get penjen go home\"], [\"swapo barcelona\"], [\"gave birth group monsters , call swapo leaders tuu ? ?\"], [\"happy 62nd birthday swapo party grande old vanguard movement.\"], [\"swapo handclappers , comrades looking defenders.\"], [\"last time something good country 1 april 1989. swapo 1 april 1989 misery us future generations. money blood nothing\"], [\"symptoms dangerous girlfriend 1. iphone 13 2. natural hair 3. size 5 4. drinks carling black label 5. smokes hubbly 6. tattoos chest 7. swapo filter\"], [\"today opo transformed swapo make inclusive namibian organization instead regional organization. therefore celebrate 62 years people party. happy 62 birthday vanguard people party. swapo united hard work ahead.\"], [\"meme sg must stop tippytoeing come say chest swapo need calibre ar activists. ' known fact celebrities proximity power fail defend party , preoccupied stomach ideological political empty heads.\"], [\"swapo factions oshana region smoke peace pipe eleventh hour regional coordinator samuel nelongo canceled planned party birthday festivities netumbo nandi ndaitwah scheduled key speaker.\"], [\"swapo grandfather\"], [\"china russia cold war time see eye eye. china supported apartheid aligned fnla unita angola war umkhoto wesizwe , swapo , mpla cuba.\"], [\"party needs real defenders , pretenders. want young people take care party , shaningwa said swapo 62nd anniversary celebrations oshakati sunday. get namibian today !\"], [\"mistake thinking everybody worship swapo born free ! !\"], [\"swapo turns 62 years today , secretary general sophia shaningwa urged members protect treat party egg become fragile vulnerable due divisions infighting.\"], [\"swapo founded day\"], [\"swapo public relation government public relation. passion whatsoever development narrative , stone face silence. inexplicable. seriously born frees believes whatever written namibian sun etc. impressionable know better .\"], [\"swapo secretary general sophia shaningwa said division , factionalism disunity entertained swapo. also warned members party jealously protect it. buy namibian !\"], [\"blame public relations team swapo , tell good things swapo done independence. wonder day day basis .\"], [\"mekondjo cases , complaints even taken serious government. complained vaccines , vaccinated. complained swapo , vote it. complained swapo yet one majority swapo voters.\"], [\"swapo ' oshana regional coordinator , samuel nelongo , last friday said would attend drive event sunday , says meeting swapo secretary general sophia shaningwa resolved differences.\"], [\"cde , ask pres question prepare swapo elective congress held later year , please tell still united slate 2017 congress ? earlier better ! bad ask.\"], [\"vulnerable people getting vouchers use agra instead drought relief packages doorsteps ? people need spend money transport go shops. swapo people even bother think anymore. even owns aggra ?\"]], \"hovertemplate\": \"polarity=%{x}<br>subjectivity=%{y}<br>Tweet=%{customdata[0]}<extra></extra>\", \"legendgroup\": \"\", \"marker\": {\"color\": \"#636efa\", \"symbol\": \"circle\"}, \"mode\": \"markers\", \"name\": \"\", \"orientation\": \"v\", \"showlegend\": false, \"type\": \"scatter\", \"x\": [0.0, 0.0, -0.15, 0.0, 0.2, -0.3333333333333333, -0.2333333333333333, -0.625, -0.05, 0.0, 0.028571428571428574, -0.5, 0.07, 0.2857142857142857, 0.1, 0.0, 0.0, 0.1, 0.5, 0.0, 0.0, 0.0, -0.5, 0.0, -0.45, 0.0, 0.0, 0.24285714285714285, -0.25, -0.4, 0.16666666666666666, 0.014285714285714282, -1.0, 0.0, 0.08, 0.85, 0.1787878787878788, 0.0, 0.0, 0.0, 0.0, -0.04444444444444446, 0.075, -0.16666666666666666, -0.8, 0.4595238095238095, 0.1523809523809524, 0.0, 0.0, 0.8, 0.35, -0.20000000000000004, 0.0, 0.14285714285714285, 0.09999999999999998, 0.0, 0.08333333333333333, 0.2966666666666667, 0.0, 0.0, -0.17261904761904762, 0.2375, -0.5, 0.0, 0.4375, 0.5, -0.4, 0.13333333333333333, 0.0, 0.0, 0.14285714285714285, 0.0, -0.27499999999999997, -0.09999999999999992, 0.0, -0.05, -0.1, 0.01666666666666666, -0.5, -0.2, 0.1625, -0.24, 1.0, 0.0, -0.25, -0.05, 0.04545454545454545, 0.0, -0.25, 0.0, 0.0, -0.4, -0.14583333333333334, -0.8, 0.25416666666666665, -0.25, 0.2, -0.25, -0.1, 0.1, 0.1, 0.0, -0.08333333333333333, 0.02500000000000001, 0.0, 0.5, -0.4, 0.1, 0.0, 0.0, 0.0, -0.07500000000000001, 0.15333333333333338, 0.3416666666666666, 0.0, 0.0, 0.0, 0.0, 0.2, 0.6000000000000001, 0.05000000000000002, 0.0, 0.11666666666666665, -0.2, 0.0, 0.0, 0.0, 0.0, 0.45, 0.0, 0.2333333333333333, -0.2222222222222222, 0.25416666666666665, -0.19999999999999998, 0.0, 0.0, -0.6, 0.1625, 0.625, -0.14375, 0.0, -0.08666666666666667, 0.06250000000000003, 0.35, -0.30833333333333335, 0.02500000000000001, -0.01874999999999996, -0.5], \"xaxis\": \"x\", \"y\": [0.0, 0.0, 0.5, 0.0, 0.1, 0.6666666666666666, 0.6666666666666666, 1.0, 0.4, 0.0, 0.3595238095238095, 1.0, 0.5700000000000001, 0.5357142857142857, 0.2, 0.03333333333333333, 0.0, 0.18333333333333335, 0.55, 0.0, 0.0, 0.3333333333333333, 0.3, 0.0, 0.7, 0.0, 0.0, 0.46785714285714286, 0.25, 0.4, 0.25, 0.5142857142857143, 1.0, 0.0, 0.57, 1.0, 0.48484848484848486, 0.0, 0.0, 0.25, 0.0, 0.611111111111111, 0.09375, 0.26666666666666666, 0.9, 0.6452380952380953, 0.2904761904761905, 0.0, 0.3333333333333333, 0.9, 0.75, 0.4666666666666666, 0.0, 0.46785714285714286, 0.6333333333333333, 0.3, 0.41666666666666663, 0.6866666666666666, 0.0625, 0.6, 0.30952380952380953, 0.45, 0.6666666666666666, 0.0, 0.6944444444444444, 0.5, 0.6, 0.8333333333333333, 0.0, 0.0, 0.26785714285714285, 0.0, 0.725, 0.7777777777777777, 0.0, 0.05, 0.2, 0.5333333333333333, 0.3, 0.3333333333333333, 0.4125, 0.5, 0.3, 0.0, 0.1, 0.05, 0.6515151515151515, 0.0, 0.25, 0.0, 0.0, 0.7, 0.2708333333333333, 0.9, 0.7708333333333333, 0.45, 0.2, 0.25, 0.1, 1.0, 0.1, 0.0, 0.125, 0.25, 0.1, 0.5, 0.6, 0.35, 0.0, 0.0, 0.0, 0.6583333333333333, 0.6133333333333335, 0.5916666666666667, 0.0, 0.0, 0.0, 0.0, 0.2, 0.95, 0.5, 0.0, 0.325, 0.8, 0.0, 0.0, 0.0, 0.0, 0.6, 0.0, 0.2638888888888889, 0.5777777777777778, 0.7708333333333333, 0.3, 1.0, 0.0, 1.0, 0.35000000000000003, 0.8, 0.46875, 0.0, 0.44000000000000006, 0.5, 0.33333333333333337, 0.31666666666666665, 0.2833333333333333, 0.41666666666666663, 0.5], \"yaxis\": \"y\"}],\n",
       "                        {\"legend\": {\"tracegroupgap\": 0}, \"template\": {\"data\": {\"bar\": [{\"error_x\": {\"color\": \"#2a3f5f\"}, \"error_y\": {\"color\": \"#2a3f5f\"}, \"marker\": {\"line\": {\"color\": \"#E5ECF6\", \"width\": 0.5}}, \"type\": \"bar\"}], \"barpolar\": [{\"marker\": {\"line\": {\"color\": \"#E5ECF6\", \"width\": 0.5}}, \"type\": \"barpolar\"}], \"carpet\": [{\"aaxis\": {\"endlinecolor\": \"#2a3f5f\", \"gridcolor\": \"white\", \"linecolor\": \"white\", \"minorgridcolor\": \"white\", \"startlinecolor\": \"#2a3f5f\"}, \"baxis\": {\"endlinecolor\": \"#2a3f5f\", \"gridcolor\": \"white\", \"linecolor\": \"white\", \"minorgridcolor\": \"white\", \"startlinecolor\": \"#2a3f5f\"}, \"type\": \"carpet\"}], \"choropleth\": [{\"colorbar\": {\"outlinewidth\": 0, \"ticks\": \"\"}, \"type\": \"choropleth\"}], \"contour\": [{\"colorbar\": {\"outlinewidth\": 0, \"ticks\": \"\"}, \"colorscale\": [[0.0, \"#0d0887\"], [0.1111111111111111, \"#46039f\"], [0.2222222222222222, \"#7201a8\"], [0.3333333333333333, \"#9c179e\"], [0.4444444444444444, \"#bd3786\"], [0.5555555555555556, \"#d8576b\"], [0.6666666666666666, \"#ed7953\"], [0.7777777777777778, \"#fb9f3a\"], [0.8888888888888888, \"#fdca26\"], [1.0, \"#f0f921\"]], \"type\": \"contour\"}], \"contourcarpet\": [{\"colorbar\": {\"outlinewidth\": 0, \"ticks\": \"\"}, \"type\": \"contourcarpet\"}], \"heatmap\": [{\"colorbar\": {\"outlinewidth\": 0, \"ticks\": \"\"}, \"colorscale\": [[0.0, \"#0d0887\"], [0.1111111111111111, \"#46039f\"], [0.2222222222222222, \"#7201a8\"], [0.3333333333333333, \"#9c179e\"], [0.4444444444444444, \"#bd3786\"], [0.5555555555555556, \"#d8576b\"], [0.6666666666666666, \"#ed7953\"], [0.7777777777777778, \"#fb9f3a\"], [0.8888888888888888, \"#fdca26\"], [1.0, \"#f0f921\"]], \"type\": \"heatmap\"}], \"heatmapgl\": [{\"colorbar\": {\"outlinewidth\": 0, \"ticks\": \"\"}, \"colorscale\": [[0.0, \"#0d0887\"], [0.1111111111111111, \"#46039f\"], [0.2222222222222222, \"#7201a8\"], [0.3333333333333333, \"#9c179e\"], [0.4444444444444444, \"#bd3786\"], [0.5555555555555556, \"#d8576b\"], [0.6666666666666666, \"#ed7953\"], [0.7777777777777778, \"#fb9f3a\"], [0.8888888888888888, \"#fdca26\"], [1.0, \"#f0f921\"]], \"type\": \"heatmapgl\"}], \"histogram\": [{\"marker\": {\"colorbar\": {\"outlinewidth\": 0, \"ticks\": \"\"}}, \"type\": \"histogram\"}], \"histogram2d\": [{\"colorbar\": {\"outlinewidth\": 0, \"ticks\": \"\"}, \"colorscale\": [[0.0, \"#0d0887\"], [0.1111111111111111, \"#46039f\"], [0.2222222222222222, \"#7201a8\"], [0.3333333333333333, \"#9c179e\"], [0.4444444444444444, \"#bd3786\"], [0.5555555555555556, \"#d8576b\"], [0.6666666666666666, \"#ed7953\"], [0.7777777777777778, \"#fb9f3a\"], [0.8888888888888888, \"#fdca26\"], [1.0, \"#f0f921\"]], \"type\": \"histogram2d\"}], \"histogram2dcontour\": [{\"colorbar\": {\"outlinewidth\": 0, \"ticks\": \"\"}, \"colorscale\": [[0.0, \"#0d0887\"], [0.1111111111111111, \"#46039f\"], [0.2222222222222222, \"#7201a8\"], [0.3333333333333333, \"#9c179e\"], [0.4444444444444444, \"#bd3786\"], [0.5555555555555556, \"#d8576b\"], [0.6666666666666666, \"#ed7953\"], [0.7777777777777778, \"#fb9f3a\"], [0.8888888888888888, \"#fdca26\"], [1.0, \"#f0f921\"]], \"type\": \"histogram2dcontour\"}], \"mesh3d\": [{\"colorbar\": {\"outlinewidth\": 0, \"ticks\": \"\"}, \"type\": \"mesh3d\"}], \"parcoords\": [{\"line\": {\"colorbar\": {\"outlinewidth\": 0, \"ticks\": \"\"}}, \"type\": \"parcoords\"}], \"pie\": [{\"automargin\": true, \"type\": \"pie\"}], \"scatter\": [{\"marker\": {\"colorbar\": {\"outlinewidth\": 0, \"ticks\": \"\"}}, \"type\": \"scatter\"}], \"scatter3d\": [{\"line\": {\"colorbar\": {\"outlinewidth\": 0, \"ticks\": \"\"}}, \"marker\": {\"colorbar\": {\"outlinewidth\": 0, \"ticks\": \"\"}}, \"type\": \"scatter3d\"}], \"scattercarpet\": [{\"marker\": {\"colorbar\": {\"outlinewidth\": 0, \"ticks\": \"\"}}, \"type\": \"scattercarpet\"}], \"scattergeo\": [{\"marker\": {\"colorbar\": {\"outlinewidth\": 0, \"ticks\": \"\"}}, \"type\": \"scattergeo\"}], \"scattergl\": [{\"marker\": {\"colorbar\": {\"outlinewidth\": 0, \"ticks\": \"\"}}, \"type\": \"scattergl\"}], \"scattermapbox\": [{\"marker\": {\"colorbar\": {\"outlinewidth\": 0, \"ticks\": \"\"}}, \"type\": \"scattermapbox\"}], \"scatterpolar\": [{\"marker\": {\"colorbar\": {\"outlinewidth\": 0, \"ticks\": \"\"}}, \"type\": \"scatterpolar\"}], \"scatterpolargl\": [{\"marker\": {\"colorbar\": {\"outlinewidth\": 0, \"ticks\": \"\"}}, \"type\": \"scatterpolargl\"}], \"scatterternary\": [{\"marker\": {\"colorbar\": {\"outlinewidth\": 0, \"ticks\": \"\"}}, \"type\": \"scatterternary\"}], \"surface\": [{\"colorbar\": {\"outlinewidth\": 0, \"ticks\": \"\"}, \"colorscale\": [[0.0, \"#0d0887\"], [0.1111111111111111, \"#46039f\"], [0.2222222222222222, \"#7201a8\"], [0.3333333333333333, \"#9c179e\"], [0.4444444444444444, \"#bd3786\"], [0.5555555555555556, \"#d8576b\"], [0.6666666666666666, \"#ed7953\"], [0.7777777777777778, \"#fb9f3a\"], [0.8888888888888888, \"#fdca26\"], [1.0, \"#f0f921\"]], \"type\": \"surface\"}], \"table\": [{\"cells\": {\"fill\": {\"color\": \"#EBF0F8\"}, \"line\": {\"color\": \"white\"}}, \"header\": {\"fill\": {\"color\": \"#C8D4E3\"}, \"line\": {\"color\": \"white\"}}, \"type\": \"table\"}]}, \"layout\": {\"annotationdefaults\": {\"arrowcolor\": \"#2a3f5f\", \"arrowhead\": 0, \"arrowwidth\": 1}, \"coloraxis\": {\"colorbar\": {\"outlinewidth\": 0, \"ticks\": \"\"}}, \"colorscale\": {\"diverging\": [[0, \"#8e0152\"], [0.1, \"#c51b7d\"], [0.2, \"#de77ae\"], [0.3, \"#f1b6da\"], [0.4, \"#fde0ef\"], [0.5, \"#f7f7f7\"], [0.6, \"#e6f5d0\"], [0.7, \"#b8e186\"], [0.8, \"#7fbc41\"], [0.9, \"#4d9221\"], [1, \"#276419\"]], \"sequential\": [[0.0, \"#0d0887\"], [0.1111111111111111, \"#46039f\"], [0.2222222222222222, \"#7201a8\"], [0.3333333333333333, \"#9c179e\"], [0.4444444444444444, \"#bd3786\"], [0.5555555555555556, \"#d8576b\"], [0.6666666666666666, \"#ed7953\"], [0.7777777777777778, \"#fb9f3a\"], [0.8888888888888888, \"#fdca26\"], [1.0, \"#f0f921\"]], \"sequentialminus\": [[0.0, \"#0d0887\"], [0.1111111111111111, \"#46039f\"], [0.2222222222222222, \"#7201a8\"], [0.3333333333333333, \"#9c179e\"], [0.4444444444444444, \"#bd3786\"], [0.5555555555555556, \"#d8576b\"], [0.6666666666666666, \"#ed7953\"], [0.7777777777777778, \"#fb9f3a\"], [0.8888888888888888, \"#fdca26\"], [1.0, \"#f0f921\"]]}, \"colorway\": [\"#636efa\", \"#EF553B\", \"#00cc96\", \"#ab63fa\", \"#FFA15A\", \"#19d3f3\", \"#FF6692\", \"#B6E880\", \"#FF97FF\", \"#FECB52\"], \"font\": {\"color\": \"#2a3f5f\"}, \"geo\": {\"bgcolor\": \"white\", \"lakecolor\": \"white\", \"landcolor\": \"#E5ECF6\", \"showlakes\": true, \"showland\": true, \"subunitcolor\": \"white\"}, \"hoverlabel\": {\"align\": \"left\"}, \"hovermode\": \"closest\", \"mapbox\": {\"style\": \"light\"}, \"paper_bgcolor\": \"white\", \"plot_bgcolor\": \"#E5ECF6\", \"polar\": {\"angularaxis\": {\"gridcolor\": \"white\", \"linecolor\": \"white\", \"ticks\": \"\"}, \"bgcolor\": \"#E5ECF6\", \"radialaxis\": {\"gridcolor\": \"white\", \"linecolor\": \"white\", \"ticks\": \"\"}}, \"scene\": {\"xaxis\": {\"backgroundcolor\": \"#E5ECF6\", \"gridcolor\": \"white\", \"gridwidth\": 2, \"linecolor\": \"white\", \"showbackground\": true, \"ticks\": \"\", \"zerolinecolor\": \"white\"}, \"yaxis\": {\"backgroundcolor\": \"#E5ECF6\", \"gridcolor\": \"white\", \"gridwidth\": 2, \"linecolor\": \"white\", \"showbackground\": true, \"ticks\": \"\", \"zerolinecolor\": \"white\"}, \"zaxis\": {\"backgroundcolor\": \"#E5ECF6\", \"gridcolor\": \"white\", \"gridwidth\": 2, \"linecolor\": \"white\", \"showbackground\": true, \"ticks\": \"\", \"zerolinecolor\": \"white\"}}, \"shapedefaults\": {\"line\": {\"color\": \"#2a3f5f\"}}, \"ternary\": {\"aaxis\": {\"gridcolor\": \"white\", \"linecolor\": \"white\", \"ticks\": \"\"}, \"baxis\": {\"gridcolor\": \"white\", \"linecolor\": \"white\", \"ticks\": \"\"}, \"bgcolor\": \"#E5ECF6\", \"caxis\": {\"gridcolor\": \"white\", \"linecolor\": \"white\", \"ticks\": \"\"}}, \"title\": {\"x\": 0.05}, \"xaxis\": {\"automargin\": true, \"gridcolor\": \"white\", \"linecolor\": \"white\", \"ticks\": \"\", \"title\": {\"standoff\": 15}, \"zerolinecolor\": \"white\", \"zerolinewidth\": 2}, \"yaxis\": {\"automargin\": true, \"gridcolor\": \"white\", \"linecolor\": \"white\", \"ticks\": \"\", \"title\": {\"standoff\": 15}, \"zerolinecolor\": \"white\", \"zerolinewidth\": 2}}}, \"title\": {\"text\": \"TextBlob Sentiment Analysis\"}, \"xaxis\": {\"anchor\": \"y\", \"domain\": [0.0, 1.0], \"title\": {\"text\": \"polarity\"}}, \"yaxis\": {\"anchor\": \"x\", \"domain\": [0.0, 1.0], \"title\": {\"text\": \"subjectivity\"}}},\n",
       "                        {\"responsive\": true}\n",
       "                    ).then(function(){\n",
       "                            \n",
       "var gd = document.getElementById('4b6deb95-df19-499f-a2ea-9940a1eef02b');\n",
       "var x = new MutationObserver(function (mutations, observer) {{\n",
       "        var display = window.getComputedStyle(gd).display;\n",
       "        if (!display || display === 'none') {{\n",
       "            console.log([gd, 'removed!']);\n",
       "            Plotly.purge(gd);\n",
       "            observer.disconnect();\n",
       "        }}\n",
       "}});\n",
       "\n",
       "// Listen for the removal of the full notebook cells\n",
       "var notebookContainer = gd.closest('#notebook-container');\n",
       "if (notebookContainer) {{\n",
       "    x.observe(notebookContainer, {childList: true});\n",
       "}}\n",
       "\n",
       "// Listen for the clearing of the current output cell\n",
       "var outputEl = gd.closest('.output');\n",
       "if (outputEl) {{\n",
       "    x.observe(outputEl, {childList: true});\n",
       "}}\n",
       "\n",
       "                        })\n",
       "                };\n",
       "                });\n",
       "            </script>\n",
       "        </div>"
      ]
     },
     "metadata": {},
     "output_type": "display_data"
    }
   ],
   "source": [
    "fig.show()"
   ]
  },
  {
   "cell_type": "markdown",
   "id": "147baab2-5a9a-43cc-b358-40d815a452ae",
   "metadata": {},
   "source": [
    "## Vader Lib"
   ]
  },
  {
   "cell_type": "code",
   "execution_count": 40,
   "id": "63bac97b-7a35-40a6-bfb8-dd67f6391adc",
   "metadata": {},
   "outputs": [],
   "source": [
    "analyser = SentimentIntensityAnalyzer()"
   ]
  },
  {
   "cell_type": "code",
   "execution_count": 43,
   "id": "71b6a2a9-8cb2-41ef-987a-6074c0c44a6c",
   "metadata": {},
   "outputs": [
    {
     "data": {
      "text/html": [
       "<div>\n",
       "<style scoped>\n",
       "    .dataframe tbody tr th:only-of-type {\n",
       "        vertical-align: middle;\n",
       "    }\n",
       "\n",
       "    .dataframe tbody tr th {\n",
       "        vertical-align: top;\n",
       "    }\n",
       "\n",
       "    .dataframe thead th {\n",
       "        text-align: right;\n",
       "    }\n",
       "</style>\n",
       "<table border=\"1\" class=\"dataframe\">\n",
       "  <thead>\n",
       "    <tr style=\"text-align: right;\">\n",
       "      <th></th>\n",
       "      <th>Unnamed: 0</th>\n",
       "      <th>Time</th>\n",
       "      <th>User</th>\n",
       "      <th>Location</th>\n",
       "      <th>Tweet</th>\n",
       "      <th>subjectivity</th>\n",
       "      <th>polarity</th>\n",
       "      <th>TBsentiment</th>\n",
       "      <th>vader_compound</th>\n",
       "    </tr>\n",
       "  </thead>\n",
       "  <tbody>\n",
       "    <tr>\n",
       "      <th>0</th>\n",
       "      <td>0</td>\n",
       "      <td>2022-04-27 05:22:43</td>\n",
       "      <td>lamek94</td>\n",
       "      <td>Windhoek</td>\n",
       "      <td>must blame mr ekandjo ! everything belong swapo .</td>\n",
       "      <td>0.000000</td>\n",
       "      <td>0.000000</td>\n",
       "      <td>Neutral</td>\n",
       "      <td>-0.4003</td>\n",
       "    </tr>\n",
       "    <tr>\n",
       "      <th>1</th>\n",
       "      <td>1</td>\n",
       "      <td>2022-04-27 03:00:06</td>\n",
       "      <td>sinut69</td>\n",
       "      <td>Namibia</td>\n",
       "      <td>call national flag say belong swapo ? contradi...</td>\n",
       "      <td>0.000000</td>\n",
       "      <td>0.000000</td>\n",
       "      <td>Neutral</td>\n",
       "      <td>-0.2500</td>\n",
       "    </tr>\n",
       "    <tr>\n",
       "      <th>2</th>\n",
       "      <td>2</td>\n",
       "      <td>2022-04-26 21:47:25</td>\n",
       "      <td>__evuleMoses_</td>\n",
       "      <td>oshakati</td>\n",
       "      <td>immanuel benefits swapo wants stay power till ...</td>\n",
       "      <td>0.500000</td>\n",
       "      <td>-0.150000</td>\n",
       "      <td>Negative</td>\n",
       "      <td>0.1531</td>\n",
       "    </tr>\n",
       "    <tr>\n",
       "      <th>3</th>\n",
       "      <td>3</td>\n",
       "      <td>2022-04-26 20:47:28</td>\n",
       "      <td>journeyman_94</td>\n",
       "      <td>Namibia</td>\n",
       "      <td>swanu flag inspired swapo flag ?</td>\n",
       "      <td>0.000000</td>\n",
       "      <td>0.000000</td>\n",
       "      <td>Neutral</td>\n",
       "      <td>0.4939</td>\n",
       "    </tr>\n",
       "    <tr>\n",
       "      <th>4</th>\n",
       "      <td>4</td>\n",
       "      <td>2022-04-26 20:46:52</td>\n",
       "      <td>_EierKlitser</td>\n",
       "      <td>Namibia</td>\n",
       "      <td>swapo wants rule enrich pockets like pm. kak b...</td>\n",
       "      <td>0.100000</td>\n",
       "      <td>0.200000</td>\n",
       "      <td>Positive</td>\n",
       "      <td>0.1027</td>\n",
       "    </tr>\n",
       "    <tr>\n",
       "      <th>...</th>\n",
       "      <td>...</td>\n",
       "      <td>...</td>\n",
       "      <td>...</td>\n",
       "      <td>...</td>\n",
       "      <td>...</td>\n",
       "      <td>...</td>\n",
       "      <td>...</td>\n",
       "      <td>...</td>\n",
       "      <td>...</td>\n",
       "    </tr>\n",
       "    <tr>\n",
       "      <th>143</th>\n",
       "      <td>143</td>\n",
       "      <td>2022-04-19 09:42:44</td>\n",
       "      <td>SilasNdakolo</td>\n",
       "      <td>Namibia</td>\n",
       "      <td>blame public relations team swapo , tell good ...</td>\n",
       "      <td>0.333333</td>\n",
       "      <td>0.350000</td>\n",
       "      <td>Positive</td>\n",
       "      <td>0.1280</td>\n",
       "    </tr>\n",
       "    <tr>\n",
       "      <th>144</th>\n",
       "      <td>144</td>\n",
       "      <td>2022-04-19 09:31:50</td>\n",
       "      <td>MevrouS</td>\n",
       "      <td>Namibia</td>\n",
       "      <td>mekondjo cases , complaints even taken serious...</td>\n",
       "      <td>0.316667</td>\n",
       "      <td>-0.308333</td>\n",
       "      <td>Negative</td>\n",
       "      <td>-0.8779</td>\n",
       "    </tr>\n",
       "    <tr>\n",
       "      <th>145</th>\n",
       "      <td>145</td>\n",
       "      <td>2022-04-19 09:27:59</td>\n",
       "      <td>EagleFMNam</td>\n",
       "      <td>Namibia</td>\n",
       "      <td>swapo ' oshana regional coordinator , samuel n...</td>\n",
       "      <td>0.283333</td>\n",
       "      <td>0.025000</td>\n",
       "      <td>Positive</td>\n",
       "      <td>0.1779</td>\n",
       "    </tr>\n",
       "    <tr>\n",
       "      <th>146</th>\n",
       "      <td>146</td>\n",
       "      <td>2022-04-19 09:17:45</td>\n",
       "      <td>AsserNtinda</td>\n",
       "      <td>Windhoek, Namibia</td>\n",
       "      <td>cde , ask pres question prepare swapo elective...</td>\n",
       "      <td>0.416667</td>\n",
       "      <td>-0.018750</td>\n",
       "      <td>Negative</td>\n",
       "      <td>0.5848</td>\n",
       "    </tr>\n",
       "    <tr>\n",
       "      <th>147</th>\n",
       "      <td>147</td>\n",
       "      <td>2022-04-19 09:14:58</td>\n",
       "      <td>Daaalllas</td>\n",
       "      <td>Namibia</td>\n",
       "      <td>vulnerable people getting vouchers use agra in...</td>\n",
       "      <td>0.500000</td>\n",
       "      <td>-0.500000</td>\n",
       "      <td>Negative</td>\n",
       "      <td>-0.1431</td>\n",
       "    </tr>\n",
       "  </tbody>\n",
       "</table>\n",
       "<p>148 rows × 9 columns</p>\n",
       "</div>"
      ],
      "text/plain": [
       "     Unnamed: 0                 Time           User           Location  \\\n",
       "0             0  2022-04-27 05:22:43        lamek94          Windhoek    \n",
       "1             1  2022-04-27 03:00:06        sinut69            Namibia   \n",
       "2             2  2022-04-26 21:47:25  __evuleMoses_           oshakati   \n",
       "3             3  2022-04-26 20:47:28  journeyman_94            Namibia   \n",
       "4             4  2022-04-26 20:46:52   _EierKlitser            Namibia   \n",
       "..          ...                  ...            ...                ...   \n",
       "143         143  2022-04-19 09:42:44   SilasNdakolo            Namibia   \n",
       "144         144  2022-04-19 09:31:50        MevrouS            Namibia   \n",
       "145         145  2022-04-19 09:27:59     EagleFMNam            Namibia   \n",
       "146         146  2022-04-19 09:17:45    AsserNtinda  Windhoek, Namibia   \n",
       "147         147  2022-04-19 09:14:58      Daaalllas            Namibia   \n",
       "\n",
       "                                                 Tweet  subjectivity  \\\n",
       "0    must blame mr ekandjo ! everything belong swapo .      0.000000   \n",
       "1    call national flag say belong swapo ? contradi...      0.000000   \n",
       "2    immanuel benefits swapo wants stay power till ...      0.500000   \n",
       "3                     swanu flag inspired swapo flag ?      0.000000   \n",
       "4    swapo wants rule enrich pockets like pm. kak b...      0.100000   \n",
       "..                                                 ...           ...   \n",
       "143  blame public relations team swapo , tell good ...      0.333333   \n",
       "144  mekondjo cases , complaints even taken serious...      0.316667   \n",
       "145  swapo ' oshana regional coordinator , samuel n...      0.283333   \n",
       "146  cde , ask pres question prepare swapo elective...      0.416667   \n",
       "147  vulnerable people getting vouchers use agra in...      0.500000   \n",
       "\n",
       "     polarity TBsentiment  vader_compound  \n",
       "0    0.000000     Neutral         -0.4003  \n",
       "1    0.000000     Neutral         -0.2500  \n",
       "2   -0.150000    Negative          0.1531  \n",
       "3    0.000000     Neutral          0.4939  \n",
       "4    0.200000    Positive          0.1027  \n",
       "..        ...         ...             ...  \n",
       "143  0.350000    Positive          0.1280  \n",
       "144 -0.308333    Negative         -0.8779  \n",
       "145  0.025000    Positive          0.1779  \n",
       "146 -0.018750    Negative          0.5848  \n",
       "147 -0.500000    Negative         -0.1431  \n",
       "\n",
       "[148 rows x 9 columns]"
      ]
     },
     "execution_count": 43,
     "metadata": {},
     "output_type": "execute_result"
    }
   ],
   "source": [
    "def get_vaderCompoundPolarity(text):\n",
    "    return analyser.polarity_scores(text)['compound']\n",
    "    \n",
    "df['vader_compound'] = df['Tweet'].apply(get_vaderCompoundPolarity)\n",
    "df"
   ]
  },
  {
   "cell_type": "code",
   "execution_count": 44,
   "id": "ecb49c8d-7056-4744-a248-5ed89c996f47",
   "metadata": {},
   "outputs": [
    {
     "data": {
      "text/html": [
       "<div>\n",
       "<style scoped>\n",
       "    .dataframe tbody tr th:only-of-type {\n",
       "        vertical-align: middle;\n",
       "    }\n",
       "\n",
       "    .dataframe tbody tr th {\n",
       "        vertical-align: top;\n",
       "    }\n",
       "\n",
       "    .dataframe thead th {\n",
       "        text-align: right;\n",
       "    }\n",
       "</style>\n",
       "<table border=\"1\" class=\"dataframe\">\n",
       "  <thead>\n",
       "    <tr style=\"text-align: right;\">\n",
       "      <th></th>\n",
       "      <th>Unnamed: 0</th>\n",
       "      <th>Time</th>\n",
       "      <th>User</th>\n",
       "      <th>Location</th>\n",
       "      <th>Tweet</th>\n",
       "      <th>subjectivity</th>\n",
       "      <th>polarity</th>\n",
       "      <th>TBsentiment</th>\n",
       "      <th>vader_compound</th>\n",
       "      <th>VADERsentiment</th>\n",
       "    </tr>\n",
       "  </thead>\n",
       "  <tbody>\n",
       "    <tr>\n",
       "      <th>0</th>\n",
       "      <td>0</td>\n",
       "      <td>2022-04-27 05:22:43</td>\n",
       "      <td>lamek94</td>\n",
       "      <td>Windhoek</td>\n",
       "      <td>must blame mr ekandjo ! everything belong swapo .</td>\n",
       "      <td>0.000000</td>\n",
       "      <td>0.000000</td>\n",
       "      <td>Neutral</td>\n",
       "      <td>-0.4003</td>\n",
       "      <td>Negative</td>\n",
       "    </tr>\n",
       "    <tr>\n",
       "      <th>1</th>\n",
       "      <td>1</td>\n",
       "      <td>2022-04-27 03:00:06</td>\n",
       "      <td>sinut69</td>\n",
       "      <td>Namibia</td>\n",
       "      <td>call national flag say belong swapo ? contradi...</td>\n",
       "      <td>0.000000</td>\n",
       "      <td>0.000000</td>\n",
       "      <td>Neutral</td>\n",
       "      <td>-0.2500</td>\n",
       "      <td>Negative</td>\n",
       "    </tr>\n",
       "    <tr>\n",
       "      <th>2</th>\n",
       "      <td>2</td>\n",
       "      <td>2022-04-26 21:47:25</td>\n",
       "      <td>__evuleMoses_</td>\n",
       "      <td>oshakati</td>\n",
       "      <td>immanuel benefits swapo wants stay power till ...</td>\n",
       "      <td>0.500000</td>\n",
       "      <td>-0.150000</td>\n",
       "      <td>Negative</td>\n",
       "      <td>0.1531</td>\n",
       "      <td>Positive</td>\n",
       "    </tr>\n",
       "    <tr>\n",
       "      <th>3</th>\n",
       "      <td>3</td>\n",
       "      <td>2022-04-26 20:47:28</td>\n",
       "      <td>journeyman_94</td>\n",
       "      <td>Namibia</td>\n",
       "      <td>swanu flag inspired swapo flag ?</td>\n",
       "      <td>0.000000</td>\n",
       "      <td>0.000000</td>\n",
       "      <td>Neutral</td>\n",
       "      <td>0.4939</td>\n",
       "      <td>Positive</td>\n",
       "    </tr>\n",
       "    <tr>\n",
       "      <th>4</th>\n",
       "      <td>4</td>\n",
       "      <td>2022-04-26 20:46:52</td>\n",
       "      <td>_EierKlitser</td>\n",
       "      <td>Namibia</td>\n",
       "      <td>swapo wants rule enrich pockets like pm. kak b...</td>\n",
       "      <td>0.100000</td>\n",
       "      <td>0.200000</td>\n",
       "      <td>Positive</td>\n",
       "      <td>0.1027</td>\n",
       "      <td>Positive</td>\n",
       "    </tr>\n",
       "    <tr>\n",
       "      <th>...</th>\n",
       "      <td>...</td>\n",
       "      <td>...</td>\n",
       "      <td>...</td>\n",
       "      <td>...</td>\n",
       "      <td>...</td>\n",
       "      <td>...</td>\n",
       "      <td>...</td>\n",
       "      <td>...</td>\n",
       "      <td>...</td>\n",
       "      <td>...</td>\n",
       "    </tr>\n",
       "    <tr>\n",
       "      <th>143</th>\n",
       "      <td>143</td>\n",
       "      <td>2022-04-19 09:42:44</td>\n",
       "      <td>SilasNdakolo</td>\n",
       "      <td>Namibia</td>\n",
       "      <td>blame public relations team swapo , tell good ...</td>\n",
       "      <td>0.333333</td>\n",
       "      <td>0.350000</td>\n",
       "      <td>Positive</td>\n",
       "      <td>0.1280</td>\n",
       "      <td>Positive</td>\n",
       "    </tr>\n",
       "    <tr>\n",
       "      <th>144</th>\n",
       "      <td>144</td>\n",
       "      <td>2022-04-19 09:31:50</td>\n",
       "      <td>MevrouS</td>\n",
       "      <td>Namibia</td>\n",
       "      <td>mekondjo cases , complaints even taken serious...</td>\n",
       "      <td>0.316667</td>\n",
       "      <td>-0.308333</td>\n",
       "      <td>Negative</td>\n",
       "      <td>-0.8779</td>\n",
       "      <td>Negative</td>\n",
       "    </tr>\n",
       "    <tr>\n",
       "      <th>145</th>\n",
       "      <td>145</td>\n",
       "      <td>2022-04-19 09:27:59</td>\n",
       "      <td>EagleFMNam</td>\n",
       "      <td>Namibia</td>\n",
       "      <td>swapo ' oshana regional coordinator , samuel n...</td>\n",
       "      <td>0.283333</td>\n",
       "      <td>0.025000</td>\n",
       "      <td>Positive</td>\n",
       "      <td>0.1779</td>\n",
       "      <td>Positive</td>\n",
       "    </tr>\n",
       "    <tr>\n",
       "      <th>146</th>\n",
       "      <td>146</td>\n",
       "      <td>2022-04-19 09:17:45</td>\n",
       "      <td>AsserNtinda</td>\n",
       "      <td>Windhoek, Namibia</td>\n",
       "      <td>cde , ask pres question prepare swapo elective...</td>\n",
       "      <td>0.416667</td>\n",
       "      <td>-0.018750</td>\n",
       "      <td>Negative</td>\n",
       "      <td>0.5848</td>\n",
       "      <td>Positive</td>\n",
       "    </tr>\n",
       "    <tr>\n",
       "      <th>147</th>\n",
       "      <td>147</td>\n",
       "      <td>2022-04-19 09:14:58</td>\n",
       "      <td>Daaalllas</td>\n",
       "      <td>Namibia</td>\n",
       "      <td>vulnerable people getting vouchers use agra in...</td>\n",
       "      <td>0.500000</td>\n",
       "      <td>-0.500000</td>\n",
       "      <td>Negative</td>\n",
       "      <td>-0.1431</td>\n",
       "      <td>Negative</td>\n",
       "    </tr>\n",
       "  </tbody>\n",
       "</table>\n",
       "<p>148 rows × 10 columns</p>\n",
       "</div>"
      ],
      "text/plain": [
       "     Unnamed: 0                 Time           User           Location  \\\n",
       "0             0  2022-04-27 05:22:43        lamek94          Windhoek    \n",
       "1             1  2022-04-27 03:00:06        sinut69            Namibia   \n",
       "2             2  2022-04-26 21:47:25  __evuleMoses_           oshakati   \n",
       "3             3  2022-04-26 20:47:28  journeyman_94            Namibia   \n",
       "4             4  2022-04-26 20:46:52   _EierKlitser            Namibia   \n",
       "..          ...                  ...            ...                ...   \n",
       "143         143  2022-04-19 09:42:44   SilasNdakolo            Namibia   \n",
       "144         144  2022-04-19 09:31:50        MevrouS            Namibia   \n",
       "145         145  2022-04-19 09:27:59     EagleFMNam            Namibia   \n",
       "146         146  2022-04-19 09:17:45    AsserNtinda  Windhoek, Namibia   \n",
       "147         147  2022-04-19 09:14:58      Daaalllas            Namibia   \n",
       "\n",
       "                                                 Tweet  subjectivity  \\\n",
       "0    must blame mr ekandjo ! everything belong swapo .      0.000000   \n",
       "1    call national flag say belong swapo ? contradi...      0.000000   \n",
       "2    immanuel benefits swapo wants stay power till ...      0.500000   \n",
       "3                     swanu flag inspired swapo flag ?      0.000000   \n",
       "4    swapo wants rule enrich pockets like pm. kak b...      0.100000   \n",
       "..                                                 ...           ...   \n",
       "143  blame public relations team swapo , tell good ...      0.333333   \n",
       "144  mekondjo cases , complaints even taken serious...      0.316667   \n",
       "145  swapo ' oshana regional coordinator , samuel n...      0.283333   \n",
       "146  cde , ask pres question prepare swapo elective...      0.416667   \n",
       "147  vulnerable people getting vouchers use agra in...      0.500000   \n",
       "\n",
       "     polarity TBsentiment  vader_compound VADERsentiment  \n",
       "0    0.000000     Neutral         -0.4003       Negative  \n",
       "1    0.000000     Neutral         -0.2500       Negative  \n",
       "2   -0.150000    Negative          0.1531       Positive  \n",
       "3    0.000000     Neutral          0.4939       Positive  \n",
       "4    0.200000    Positive          0.1027       Positive  \n",
       "..        ...         ...             ...            ...  \n",
       "143  0.350000    Positive          0.1280       Positive  \n",
       "144 -0.308333    Negative         -0.8779       Negative  \n",
       "145  0.025000    Positive          0.1779       Positive  \n",
       "146 -0.018750    Negative          0.5848       Positive  \n",
       "147 -0.500000    Negative         -0.1431       Negative  \n",
       "\n",
       "[148 rows x 10 columns]"
      ]
     },
     "execution_count": 44,
     "metadata": {},
     "output_type": "execute_result"
    }
   ],
   "source": [
    "df['VADERsentiment'] = df['vader_compound'].apply(get_sentiment_label)\n",
    "df"
   ]
  },
  {
   "cell_type": "code",
   "execution_count": 45,
   "id": "943c258b-a6ee-4ae3-b1eb-6bd52888a840",
   "metadata": {},
   "outputs": [
    {
     "data": {
      "text/plain": [
       "Positive    79\n",
       "Negative    44\n",
       "Neutral     25\n",
       "Name: VADERsentiment, dtype: int64"
      ]
     },
     "execution_count": 45,
     "metadata": {},
     "output_type": "execute_result"
    }
   ],
   "source": [
    "df['VADERsentiment'].value_counts()"
   ]
  },
  {
   "cell_type": "code",
   "execution_count": 46,
   "id": "cbc1184b-389a-4168-9bb5-0f700b07335e",
   "metadata": {},
   "outputs": [
    {
     "data": {
      "application/vnd.plotly.v1+json": {
       "config": {
        "plotlyServerURL": "https://plot.ly"
       },
       "data": [
        {
         "customdata": [
          [
           "must blame mr ekandjo ! everything belong swapo ."
          ],
          [
           "call national flag say belong swapo ? contradiction ."
          ],
          [
           "immanuel benefits swapo wants stay power till jesus comes . saara co ' see anything wrong , heads ' well oiled machine. ship sank already , ' drawing ."
          ],
          [
           "swanu flag inspired swapo flag ?"
          ],
          [
           "swapo wants rule enrich pockets like pm. kak biased shows ."
          ],
          [
           "swapo want claim namibia flag belongs party still named south west africa ? serious , name would changed 1990 nampo problem swapo think citizens serve instead serving people ."
          ],
          [
           "swapo go hell sowaar done ' fact useless president thank since national flag belong swapo utter nonsense let power get heads shit comes mouth"
          ],
          [
           "mad ... swapo namibia"
          ],
          [
           "992 woman babelaas ... swapo gone dogs ... long overdue ... saara must go retirement outapi ..."
          ],
          [
           "swapo ' flag belongs ?"
          ],
          [
           "one knows jesus ? confusing whole thing outapi clique thievery. spoilt swapo thinking rule forever jesus comes . ' read article one thing certain , last kicks dying zebra , horse , shamefull"
          ],
          [
           "forcing people ... unfair distribution resources country. never go swapo ."
          ],
          [
           "swapo elite becoming desperate understand days over. namibians enough corruption. appealing christian superstition going save swapo 2024 ."
          ],
          [
           "swapo , put people swapo power ? national flag national flag , swapo given power create it. words democratically right echo. leaders focus serving people want power , self identity"
          ],
          [
           "atleast within swapo give power youth , since independence old people recycled one ministry another ."
          ],
          [
           "opposition parties warpath prime minister saara kuugongelwa amadhila took leaf former south african president jacob zuma ' political playbook saying swapo kept power jesus returns."
          ],
          [
           "day swapo lose elections , historical upset time. swear day shall come soon gonna believe happened. mark date ! ! ! way mock jesus way , embrassed ."
          ],
          [
           "something last election ruled unconstitutional yet hage charge swapo ruling party shows depth corruption within borders among politicians literally screwed like real"
          ],
          [
           "whilst swapo rulers living lavishly families cronies , many sold namibian resources bronze platter , stealing country bankrupt telling us money , enjoying lavish celebrations. people ' pensions"
          ],
          [
           "words come bite her. ask meme kahungu said windhoek mayoral leadership swapo. today ?"
          ],
          [
           "swapo running away corruption like"
          ],
          [
           "support swapo jesus came , briefly explain ? 55marks"
          ],
          [
           "immanuel swapo already failed nation. 32 years independence , 1.6 millions people ' living poverty. unless want power self enrichment purposes ..."
          ],
          [
           "namibian exile kids association neka launched strategic plan 2022 2024 includes one goals attaining affiliation membership swapo."
          ],
          [
           "swapo broken organization needs fixer like olivia pope .... sadly plans change things still eating stealing"
          ],
          [
           "forget ... time ! swapo two years ."
          ],
          [
           "thing keep swapo power votes otherwise , ' cooking"
          ],
          [
           "sands whole swapo hell right?? ? dont think juses likes criminals ."
          ],
          [
           "swapo day story past like jesus."
          ],
          [
           "swapo broken organization needs fixer like olivia pope"
          ],
          [
           "allow swapo defeated jesus comes back , prime minister saara kuugongelwa amadhila recently said. get today ' issue namibian more."
          ],
          [
           "mee saara ! jesus came back 2019 swapo lost two thirds majority many municipalities. wake calls. love swapo , unless swapo mends broken fences seals leaky roofs , worst come. many people think differently swapo today."
          ],
          [
           "lmk really stupid swapo people shame using jesus name ashame people namibia .. ! ! ! thugs thats are. ! ! !"
          ],
          [
           "choice give end swapo"
          ],
          [
           "' high time swapo government stop ' decided rule amongst otjiherero speaking speaking community , swapo different apartheid ..."
          ],
          [
           "swapo ruined beautiful nation"
          ],
          [
           "veteran diplomat kaire mbuende elected new district secretary swapo party elders council okorukambe district , omaheke region. spec secretary mukwaita shanyengana confirmed. mbuende replaces omaheke governor pijoo nganate."
          ],
          [
           "restructuring process weekend , swapo party elders council okorukambe district elected dr kaire mbuende secretary , magdalena risuro mobiliser , hendrik nuseb party elders ' council treasurer."
          ],
          [
           "made remarks okatana oshana region 62nd swapo party anniversary celebrations. #nbcnews #nbcdstv282 #nbcdigitalnews"
          ],
          [
           "swapo party politburo central committee member , saara kuugongelwa amadhila urged fellow party members supporters allow controlled opposition. #nbcnews #nbcdstv282 #nbcdigitalnews"
          ],
          [
           "might join swapo"
          ],
          [
           "love ndilimani songs. even hate swapo. ideological differences leaders helm party. madam headquarters particular"
          ],
          [
           "rikki tikki air force army conducted joint training order counter future incursions swapo. alongside formations mirages flown around conducting cas trainings army recently got several grk mortars , test fired today success."
          ],
          [
           "heading next swapo rally score small small tender"
          ],
          [
           "even hate swapo , ndilimani songs comes ' sing along bossa"
          ],
          [
           "engaged spontaneous walkabout residents tsumeb , including school learners. teacher early 1960s tsumeb home joined swapo here. holds special place heart thank residents love warm , spontaneous reception."
          ],
          [
           "tsumeb holds special place life president geingob town president worked school teacher early 1960s left exile fight freedom. also town joined swapo ."
          ],
          [
           "nowadays people ' want associated anything resembles swapo."
          ],
          [
           "rikki tikki saaf aircraft reportedly bombed several key swapo positions around called ovamboland kavangoland bantustans. mirages seen conducting air sorties swapo logistic sites , killing several crippling supply routes."
          ],
          [
           "welcome swapo"
          ],
          [
           "swapo members swapo party kharas region celebrated party ' 62nd birthday anniversary keetmanshoop. swapo party liberation struggle stalwart ben boys delivered keynote address. report luqman cloete #nbcnews #nbcdstv282 #nbcdigitalnews"
          ],
          [
           "poor man , ndishishi , kapofi simataa zimbabwean cogorts brought sme bank ' knees leaving luxuries courtesy swapo government poor guy must suffer much. hypocrisy justice capitalist systems adopted default .."
          ],
          [
           "omuna ondumbo ..... amushelelo ryt thing us non swapo"
          ],
          [
           "bread winner current national situation affairs , motivate family members vote. right activist. help activists. #arsenal #manunited #swapo #nationalassembly #nato #activist"
          ],
          [
           "' good voted ipc lpm , rest history come 2024 , people vote vote swapo dictators hungered blind power ..."
          ],
          [
           "immanuel low swapo go oshili ! man need stop .its unacceptable"
          ],
          [
           "founding president main speaker swapo party birthday celebration tomorrow omusati region , yaholike efeni omusamane afudhepo , hes fragile ."
          ],
          [
           "mutorwa high echelons swapo constituencies kavango regions dire state backwardness , singing semaa uuulipeni , swapo rallies , people must wake smell coffee.else ' also easy understand , mutorwa look belly"
          ],
          [
           "future ama 20s telling history thier kids like white people colonise parents 1990 swapo took also colonise us .."
          ],
          [
           "swapo party week send delegation germany engage country ' government different issues."
          ],
          [
           "swapo keeping tight lid details regarding trip berlin , germany , party officials , amid talks genocide subject agenda."
          ],
          [
           "pave way young meme doctor hilary mare liberation stalwart , swapo icon namibia first female doctor , dr libertine inaviposa amathila popularly known meme doctor said swapo must pass"
          ],
          [
           "still part system ' even amazed pampering words tell ' swapo things turning blind retirement must fall , want say never seen differences ? must wake swapo"
          ],
          [
           "god ' reply swapo ' independence antics"
          ],
          [
           "sure swapo bar edundja. structure looks familiar lots bars north"
          ],
          [
           "cde lot zimbo ' engineers working engineering consulting companies. could offered better design. remember volvo incident 11 mill gt 4 mil. swapo"
          ],
          [
           "swapo leaders fishing permit poor besides ' pilchard fish ocean god"
          ],
          [
           "correct , want stay even walk knees , ' majority namibians living standards going , chaise.swapo driving country dungeons , today ' money , seriously. ministers cohorts lives nicely"
          ],
          [
           "swapo"
          ],
          [
           ", state swapo money ?"
          ],
          [
           "neff get lot people voting 2024 elections. right commendable tackling things swapo others ignored 30 years. exploitation local people foreigners"
          ],
          [
           "money like swapo"
          ],
          [
           "surprise , shocked , normal napo swapo government ."
          ],
          [
           "guys lunch room builders contractors , sure swapo bad say , let give chance let give sometime"
          ],
          [
           "building swapo offices int districts ?"
          ],
          [
           "former cabinet minister erkki nghimtina says spent n 300 000 n 400 000 build swapo district office edundja village ohangwena region."
          ],
          [
           "immanuel pity pg one telling us money lost instead asking look , fima , iha twiilongosha ndishi , swapo killing country"
          ],
          [
           "support comes anc alliance ssn sdc may refuse acknowledge. government fails give kind support may long like zanu pf , bdp , pf swapo bothered levels ."
          ],
          [
           "police kavango east region stopped move residents mashare constituency forcefully close councillor ' office. residents accused constituency swapo party councillor philipus mavara incompetency , allegedly failed ..."
          ],
          [
           "nbc useless , employee went strike last year several times. worried reporting matter. obviously nbc would wish namibian see ' something wrong neff doing. nbc like swapo represent interest ."
          ],
          [
           "swapo secretary general sophia shaningwa described 19 deadly virus , greatly affected ruling party financially."
          ],
          [
           "civil servants , ' forget failed , corrupt bankrupt hage geingob administration us. deserve pay rise economic troubling times ' it. ever vote swapo , suffer forever. change painful worth ."
          ],
          [
           "namibia , nation ' best interests heart like help people , automatically enemy swapo ."
          ],
          [
           "reason celebrate , zero millionaire. swapo transforming guys life ."
          ],
          [
           "education system collapsed way back swapo gave useless people , dr abraham"
          ],
          [
           "onawa , jumping , left center , jus let swapo"
          ],
          [
           "swapo mp national assembly dr. tobie aupindi says mining sector potential increase revenue create new industries. however , raised concern budget allocation ministry mines energy enough. #nbcnews"
          ],
          [
           "join swapo become millionaire 10 days"
          ],
          [
           "kalimbwe swapo never worked opposition lusaka oust unip. must selective learn past generation ."
          ],
          [
           "blame swapo"
          ],
          [
           "gucci swapo"
          ],
          [
           "always stubborn people vote swapo , ' reason ' going forward. popyeni noonyokulu also please tired"
          ],
          [
           "swapo united , hard work ahead 32 years later still singing song ?"
          ],
          [
           "' allow anyone make us hate house swapo home"
          ],
          [
           "today opo transformed swapo make inclusive namibian organization instead regional organization. therefore celebrate 62 years people party. happy 62 birthday vanguard people party. swapo united hard work ahead ."
          ],
          [
           "' leather store access park cpt near kc sell swapo leather jackets ! random !"
          ],
          [
           "' say , swapo really fumbled bag selling jackets. drip never denied"
          ],
          [
           "tuesday , swapo president hage geingob said ruling party ' governance efforts past 32 years since independence ensured banishment spectre apartheid brutality. added still needs done ensure"
          ],
          [
           "kalimbwe anc , zapu swapo spent time crime lusaka , robbing amd murdering citizens ?"
          ],
          [
           "founding president sam nujoma called swapo party women council transform formidable force reckoned namibian society far women children matters concerned."
          ],
          [
           "president hage geingob yesterday waxed lyrical achievement ruling party swapo turned 62 yesterday retired party veterans argued former liberation movement become economic opportunism corruption."
          ],
          [
           "anc , swapo zanu pf losing support bases. people fed unemployment , corruption nepotism"
          ],
          [
           "eagle fm talks helmut angula swapo past , present future. join wonder 16h30 18h30 home run today."
          ],
          [
           "swapo secretary general sophia shaningwa hit back questioning defence party , official opening swapo ' oshikango district office tuesday afternoon."
          ],
          [
           "like egg vali ? thought swapo solid rock !"
          ],
          [
           "safe except swapo filter. redder flag .."
          ],
          [
           "morning. president need help country namibia . ' poverty corruption swapo government . oil gas resources poor namibia suffering. help us itearm development country please"
          ],
          [
           "sleeping cattles foods still going make noise saying viva swapo viva hage using smll amount energy tht got eating 1 spoon soft porridge hon hage others eating want , sleeping upstairs ?"
          ],
          [
           "mesophia se otuna manga eproblem domanchester united , swapo well hold"
          ],
          [
           "swapo headcounters"
          ],
          [
           "shackez95 know swapo member please meme"
          ],
          [
           "swapo elimo nayi ku hage lou lou , made plan show nuuyoma true king is. ' blindly follow sinking ship"
          ],
          [
           "way go , boers spoed swapo nunw 32 good years , viva brave son namibia standing poor black compatriots mistreated capitalist whilst black elites grn eating whites foreigners , ranga , muniaro"
          ],
          [
           "straightforward message , line popular general mood continent self determination national independence swapo party formed , progressive liberation movement ."
          ],
          [
           "shackez95 treat swapo like egg"
          ],
          [
           "swapo myth one day"
          ],
          [
           "message excellency dr. , president republic namibia president swapo party occasion 62nd anniversary swapo party #onlyswapo #swapo #swapo62"
          ],
          [
           "neeh man already man stop swapo"
          ],
          [
           "ano swapo require much defending ?"
          ],
          [
           "happy birthday mighty swapo party .."
          ],
          [
           "swapo secretary general sophia shaningwa says swapo treated care like egg."
          ],
          [
           "tweet reveal swapo supporters anyway also want office national headquarters"
          ],
          [
           "swapo party women ' council spwc secretary fransina kahungu committed training future political leaders party today celebrated 62nd birthday."
          ],
          [
           "namibians , swapo treat namibians like eggs like shit , every week passes insulted swapo dictators , time come , maybe change like dta venaani start eating ruling party time 2024 ..."
          ],
          [
           "start treating swapo like egg know someone aromat"
          ],
          [
           "swapo 60 , must retire get penjen go home"
          ],
          [
           "swapo barcelona"
          ],
          [
           "gave birth group monsters , call swapo leaders tuu ? ?"
          ],
          [
           "happy 62nd birthday swapo party grande old vanguard movement."
          ],
          [
           "swapo handclappers , comrades looking defenders."
          ],
          [
           "last time something good country 1 april 1989. swapo 1 april 1989 misery us future generations. money blood nothing"
          ],
          [
           "symptoms dangerous girlfriend 1. iphone 13 2. natural hair 3. size 5 4. drinks carling black label 5. smokes hubbly 6. tattoos chest 7. swapo filter"
          ],
          [
           "today opo transformed swapo make inclusive namibian organization instead regional organization. therefore celebrate 62 years people party. happy 62 birthday vanguard people party. swapo united hard work ahead."
          ],
          [
           "meme sg must stop tippytoeing come say chest swapo need calibre ar activists. ' known fact celebrities proximity power fail defend party , preoccupied stomach ideological political empty heads."
          ],
          [
           "swapo factions oshana region smoke peace pipe eleventh hour regional coordinator samuel nelongo canceled planned party birthday festivities netumbo nandi ndaitwah scheduled key speaker."
          ],
          [
           "swapo grandfather"
          ],
          [
           "china russia cold war time see eye eye. china supported apartheid aligned fnla unita angola war umkhoto wesizwe , swapo , mpla cuba."
          ],
          [
           "party needs real defenders , pretenders. want young people take care party , shaningwa said swapo 62nd anniversary celebrations oshakati sunday. get namibian today !"
          ],
          [
           "mistake thinking everybody worship swapo born free ! !"
          ],
          [
           "swapo turns 62 years today , secretary general sophia shaningwa urged members protect treat party egg become fragile vulnerable due divisions infighting."
          ],
          [
           "swapo founded day"
          ],
          [
           "swapo public relation government public relation. passion whatsoever development narrative , stone face silence. inexplicable. seriously born frees believes whatever written namibian sun etc. impressionable know better ."
          ],
          [
           "swapo secretary general sophia shaningwa said division , factionalism disunity entertained swapo. also warned members party jealously protect it. buy namibian !"
          ],
          [
           "blame public relations team swapo , tell good things swapo done independence. wonder day day basis ."
          ],
          [
           "mekondjo cases , complaints even taken serious government. complained vaccines , vaccinated. complained swapo , vote it. complained swapo yet one majority swapo voters."
          ],
          [
           "swapo ' oshana regional coordinator , samuel nelongo , last friday said would attend drive event sunday , says meeting swapo secretary general sophia shaningwa resolved differences."
          ],
          [
           "cde , ask pres question prepare swapo elective congress held later year , please tell still united slate 2017 congress ? earlier better ! bad ask."
          ],
          [
           "vulnerable people getting vouchers use agra instead drought relief packages doorsteps ? people need spend money transport go shops. swapo people even bother think anymore. even owns aggra ?"
          ]
         ],
         "hovertemplate": "polarity=%{x}<br>vader_compound=%{y}<br>Tweet=%{customdata[0]}<extra></extra>",
         "legendgroup": "",
         "marker": {
          "color": "#636efa",
          "symbol": "circle"
         },
         "mode": "markers",
         "name": "",
         "orientation": "v",
         "showlegend": false,
         "type": "scatter",
         "x": [
          0,
          0,
          -0.15,
          0,
          0.2,
          -0.3333333333333333,
          -0.2333333333333333,
          -0.625,
          -0.05,
          0,
          0.028571428571428574,
          -0.5,
          0.07,
          0.2857142857142857,
          0.1,
          0,
          0,
          0.1,
          0.5,
          0,
          0,
          0,
          -0.5,
          0,
          -0.45,
          0,
          0,
          0.24285714285714285,
          -0.25,
          -0.4,
          0.16666666666666666,
          0.014285714285714282,
          -1,
          0,
          0.08,
          0.85,
          0.1787878787878788,
          0,
          0,
          0,
          0,
          -0.04444444444444446,
          0.075,
          -0.16666666666666666,
          -0.8,
          0.4595238095238095,
          0.1523809523809524,
          0,
          0,
          0.8,
          0.35,
          -0.20000000000000004,
          0,
          0.14285714285714285,
          0.09999999999999998,
          0,
          0.08333333333333333,
          0.2966666666666667,
          0,
          0,
          -0.17261904761904762,
          0.2375,
          -0.5,
          0,
          0.4375,
          0.5,
          -0.4,
          0.13333333333333333,
          0,
          0,
          0.14285714285714285,
          0,
          -0.27499999999999997,
          -0.09999999999999992,
          0,
          -0.05,
          -0.1,
          0.01666666666666666,
          -0.5,
          -0.2,
          0.1625,
          -0.24,
          1,
          0,
          -0.25,
          -0.05,
          0.04545454545454545,
          0,
          -0.25,
          0,
          0,
          -0.4,
          -0.14583333333333334,
          -0.8,
          0.25416666666666665,
          -0.25,
          0.2,
          -0.25,
          -0.1,
          0.1,
          0.1,
          0,
          -0.08333333333333333,
          0.02500000000000001,
          0,
          0.5,
          -0.4,
          0.1,
          0,
          0,
          0,
          -0.07500000000000001,
          0.15333333333333338,
          0.3416666666666666,
          0,
          0,
          0,
          0,
          0.2,
          0.6000000000000001,
          0.05000000000000002,
          0,
          0.11666666666666665,
          -0.2,
          0,
          0,
          0,
          0,
          0.45,
          0,
          0.2333333333333333,
          -0.2222222222222222,
          0.25416666666666665,
          -0.19999999999999998,
          0,
          0,
          -0.6,
          0.1625,
          0.625,
          -0.14375,
          0,
          -0.08666666666666667,
          0.06250000000000003,
          0.35,
          -0.30833333333333335,
          0.02500000000000001,
          -0.01874999999999996,
          -0.5
         ],
         "xaxis": "x",
         "y": [
          -0.4003,
          -0.25,
          0.1531,
          0.4939,
          0.1027,
          0,
          -0.9099,
          -0.4939,
          0,
          0,
          -0.4215,
          -0.4767,
          0.2263,
          0.34,
          0,
          0.4019,
          -0.8472,
          0.25,
          -0.5994,
          0,
          0.3612,
          0.4019,
          -0.743,
          0.128,
          -0.7964,
          -0.2942,
          0,
          -0.9037,
          0.3612,
          -0.1531,
          -0.296,
          -0.68,
          -0.8386,
          0,
          -0.296,
          0.2023,
          0.4019,
          0.7096,
          0.4019,
          0.8481,
          0.296,
          0.4939,
          0.0258,
          0,
          -0.5719,
          0.9531,
          0.6486,
          0.0772,
          -0.6597,
          0.4588,
          0.8591,
          -0.5859,
          0,
          0.8442,
          0.0516,
          -0.7644,
          0.4019,
          -0.0258,
          0.3612,
          0.6249,
          0.4019,
          0.2263,
          0.2023,
          0.2732,
          0.3182,
          0.6124,
          -0.25,
          0.3612,
          0,
          0,
          -0.3182,
          0.3612,
          -0.0516,
          -0.0516,
          0,
          0,
          -0.836,
          0.6124,
          -0.5719,
          -0.0772,
          0.2665,
          -0.9531,
          0.9022,
          0.5719,
          -0.5994,
          0,
          0.6705,
          0.296,
          0,
          -0.34,
          0,
          -0.5106,
          0.34,
          -0.4215,
          0.9349,
          0,
          0.3412,
          0.0772,
          -0.8316,
          0.4215,
          0.5106,
          -0.4215,
          0.296,
          0.4019,
          0.5255,
          0.4404,
          -0.4215,
          0.34,
          0.5994,
          0,
          0.3182,
          0.4215,
          0.4939,
          0.802,
          0.6369,
          0,
          0.836,
          -0.296,
          0,
          0.7506,
          0.6908,
          0.4939,
          0.8807,
          0.6124,
          0.3612,
          0,
          0,
          0,
          0.7506,
          0.0772,
          -0.2023,
          -0.1531,
          0.9349,
          -0.5859,
          0.8519,
          0,
          -0.7579,
          0.8588,
          0.5696,
          0.7269,
          0,
          0.765,
          0.4926,
          0.128,
          -0.8779,
          0.1779,
          0.5848,
          -0.1431
         ],
         "yaxis": "y"
        }
       ],
       "layout": {
        "autosize": true,
        "legend": {
         "tracegroupgap": 0
        },
        "template": {
         "data": {
          "bar": [
           {
            "error_x": {
             "color": "#2a3f5f"
            },
            "error_y": {
             "color": "#2a3f5f"
            },
            "marker": {
             "line": {
              "color": "#E5ECF6",
              "width": 0.5
             }
            },
            "type": "bar"
           }
          ],
          "barpolar": [
           {
            "marker": {
             "line": {
              "color": "#E5ECF6",
              "width": 0.5
             }
            },
            "type": "barpolar"
           }
          ],
          "carpet": [
           {
            "aaxis": {
             "endlinecolor": "#2a3f5f",
             "gridcolor": "white",
             "linecolor": "white",
             "minorgridcolor": "white",
             "startlinecolor": "#2a3f5f"
            },
            "baxis": {
             "endlinecolor": "#2a3f5f",
             "gridcolor": "white",
             "linecolor": "white",
             "minorgridcolor": "white",
             "startlinecolor": "#2a3f5f"
            },
            "type": "carpet"
           }
          ],
          "choropleth": [
           {
            "colorbar": {
             "outlinewidth": 0,
             "ticks": ""
            },
            "type": "choropleth"
           }
          ],
          "contour": [
           {
            "colorbar": {
             "outlinewidth": 0,
             "ticks": ""
            },
            "colorscale": [
             [
              0,
              "#0d0887"
             ],
             [
              0.1111111111111111,
              "#46039f"
             ],
             [
              0.2222222222222222,
              "#7201a8"
             ],
             [
              0.3333333333333333,
              "#9c179e"
             ],
             [
              0.4444444444444444,
              "#bd3786"
             ],
             [
              0.5555555555555556,
              "#d8576b"
             ],
             [
              0.6666666666666666,
              "#ed7953"
             ],
             [
              0.7777777777777778,
              "#fb9f3a"
             ],
             [
              0.8888888888888888,
              "#fdca26"
             ],
             [
              1,
              "#f0f921"
             ]
            ],
            "type": "contour"
           }
          ],
          "contourcarpet": [
           {
            "colorbar": {
             "outlinewidth": 0,
             "ticks": ""
            },
            "type": "contourcarpet"
           }
          ],
          "heatmap": [
           {
            "colorbar": {
             "outlinewidth": 0,
             "ticks": ""
            },
            "colorscale": [
             [
              0,
              "#0d0887"
             ],
             [
              0.1111111111111111,
              "#46039f"
             ],
             [
              0.2222222222222222,
              "#7201a8"
             ],
             [
              0.3333333333333333,
              "#9c179e"
             ],
             [
              0.4444444444444444,
              "#bd3786"
             ],
             [
              0.5555555555555556,
              "#d8576b"
             ],
             [
              0.6666666666666666,
              "#ed7953"
             ],
             [
              0.7777777777777778,
              "#fb9f3a"
             ],
             [
              0.8888888888888888,
              "#fdca26"
             ],
             [
              1,
              "#f0f921"
             ]
            ],
            "type": "heatmap"
           }
          ],
          "heatmapgl": [
           {
            "colorbar": {
             "outlinewidth": 0,
             "ticks": ""
            },
            "colorscale": [
             [
              0,
              "#0d0887"
             ],
             [
              0.1111111111111111,
              "#46039f"
             ],
             [
              0.2222222222222222,
              "#7201a8"
             ],
             [
              0.3333333333333333,
              "#9c179e"
             ],
             [
              0.4444444444444444,
              "#bd3786"
             ],
             [
              0.5555555555555556,
              "#d8576b"
             ],
             [
              0.6666666666666666,
              "#ed7953"
             ],
             [
              0.7777777777777778,
              "#fb9f3a"
             ],
             [
              0.8888888888888888,
              "#fdca26"
             ],
             [
              1,
              "#f0f921"
             ]
            ],
            "type": "heatmapgl"
           }
          ],
          "histogram": [
           {
            "marker": {
             "colorbar": {
              "outlinewidth": 0,
              "ticks": ""
             }
            },
            "type": "histogram"
           }
          ],
          "histogram2d": [
           {
            "colorbar": {
             "outlinewidth": 0,
             "ticks": ""
            },
            "colorscale": [
             [
              0,
              "#0d0887"
             ],
             [
              0.1111111111111111,
              "#46039f"
             ],
             [
              0.2222222222222222,
              "#7201a8"
             ],
             [
              0.3333333333333333,
              "#9c179e"
             ],
             [
              0.4444444444444444,
              "#bd3786"
             ],
             [
              0.5555555555555556,
              "#d8576b"
             ],
             [
              0.6666666666666666,
              "#ed7953"
             ],
             [
              0.7777777777777778,
              "#fb9f3a"
             ],
             [
              0.8888888888888888,
              "#fdca26"
             ],
             [
              1,
              "#f0f921"
             ]
            ],
            "type": "histogram2d"
           }
          ],
          "histogram2dcontour": [
           {
            "colorbar": {
             "outlinewidth": 0,
             "ticks": ""
            },
            "colorscale": [
             [
              0,
              "#0d0887"
             ],
             [
              0.1111111111111111,
              "#46039f"
             ],
             [
              0.2222222222222222,
              "#7201a8"
             ],
             [
              0.3333333333333333,
              "#9c179e"
             ],
             [
              0.4444444444444444,
              "#bd3786"
             ],
             [
              0.5555555555555556,
              "#d8576b"
             ],
             [
              0.6666666666666666,
              "#ed7953"
             ],
             [
              0.7777777777777778,
              "#fb9f3a"
             ],
             [
              0.8888888888888888,
              "#fdca26"
             ],
             [
              1,
              "#f0f921"
             ]
            ],
            "type": "histogram2dcontour"
           }
          ],
          "mesh3d": [
           {
            "colorbar": {
             "outlinewidth": 0,
             "ticks": ""
            },
            "type": "mesh3d"
           }
          ],
          "parcoords": [
           {
            "line": {
             "colorbar": {
              "outlinewidth": 0,
              "ticks": ""
             }
            },
            "type": "parcoords"
           }
          ],
          "pie": [
           {
            "automargin": true,
            "type": "pie"
           }
          ],
          "scatter": [
           {
            "marker": {
             "colorbar": {
              "outlinewidth": 0,
              "ticks": ""
             }
            },
            "type": "scatter"
           }
          ],
          "scatter3d": [
           {
            "line": {
             "colorbar": {
              "outlinewidth": 0,
              "ticks": ""
             }
            },
            "marker": {
             "colorbar": {
              "outlinewidth": 0,
              "ticks": ""
             }
            },
            "type": "scatter3d"
           }
          ],
          "scattercarpet": [
           {
            "marker": {
             "colorbar": {
              "outlinewidth": 0,
              "ticks": ""
             }
            },
            "type": "scattercarpet"
           }
          ],
          "scattergeo": [
           {
            "marker": {
             "colorbar": {
              "outlinewidth": 0,
              "ticks": ""
             }
            },
            "type": "scattergeo"
           }
          ],
          "scattergl": [
           {
            "marker": {
             "colorbar": {
              "outlinewidth": 0,
              "ticks": ""
             }
            },
            "type": "scattergl"
           }
          ],
          "scattermapbox": [
           {
            "marker": {
             "colorbar": {
              "outlinewidth": 0,
              "ticks": ""
             }
            },
            "type": "scattermapbox"
           }
          ],
          "scatterpolar": [
           {
            "marker": {
             "colorbar": {
              "outlinewidth": 0,
              "ticks": ""
             }
            },
            "type": "scatterpolar"
           }
          ],
          "scatterpolargl": [
           {
            "marker": {
             "colorbar": {
              "outlinewidth": 0,
              "ticks": ""
             }
            },
            "type": "scatterpolargl"
           }
          ],
          "scatterternary": [
           {
            "marker": {
             "colorbar": {
              "outlinewidth": 0,
              "ticks": ""
             }
            },
            "type": "scatterternary"
           }
          ],
          "surface": [
           {
            "colorbar": {
             "outlinewidth": 0,
             "ticks": ""
            },
            "colorscale": [
             [
              0,
              "#0d0887"
             ],
             [
              0.1111111111111111,
              "#46039f"
             ],
             [
              0.2222222222222222,
              "#7201a8"
             ],
             [
              0.3333333333333333,
              "#9c179e"
             ],
             [
              0.4444444444444444,
              "#bd3786"
             ],
             [
              0.5555555555555556,
              "#d8576b"
             ],
             [
              0.6666666666666666,
              "#ed7953"
             ],
             [
              0.7777777777777778,
              "#fb9f3a"
             ],
             [
              0.8888888888888888,
              "#fdca26"
             ],
             [
              1,
              "#f0f921"
             ]
            ],
            "type": "surface"
           }
          ],
          "table": [
           {
            "cells": {
             "fill": {
              "color": "#EBF0F8"
             },
             "line": {
              "color": "white"
             }
            },
            "header": {
             "fill": {
              "color": "#C8D4E3"
             },
             "line": {
              "color": "white"
             }
            },
            "type": "table"
           }
          ]
         },
         "layout": {
          "annotationdefaults": {
           "arrowcolor": "#2a3f5f",
           "arrowhead": 0,
           "arrowwidth": 1
          },
          "coloraxis": {
           "colorbar": {
            "outlinewidth": 0,
            "ticks": ""
           }
          },
          "colorscale": {
           "diverging": [
            [
             0,
             "#8e0152"
            ],
            [
             0.1,
             "#c51b7d"
            ],
            [
             0.2,
             "#de77ae"
            ],
            [
             0.3,
             "#f1b6da"
            ],
            [
             0.4,
             "#fde0ef"
            ],
            [
             0.5,
             "#f7f7f7"
            ],
            [
             0.6,
             "#e6f5d0"
            ],
            [
             0.7,
             "#b8e186"
            ],
            [
             0.8,
             "#7fbc41"
            ],
            [
             0.9,
             "#4d9221"
            ],
            [
             1,
             "#276419"
            ]
           ],
           "sequential": [
            [
             0,
             "#0d0887"
            ],
            [
             0.1111111111111111,
             "#46039f"
            ],
            [
             0.2222222222222222,
             "#7201a8"
            ],
            [
             0.3333333333333333,
             "#9c179e"
            ],
            [
             0.4444444444444444,
             "#bd3786"
            ],
            [
             0.5555555555555556,
             "#d8576b"
            ],
            [
             0.6666666666666666,
             "#ed7953"
            ],
            [
             0.7777777777777778,
             "#fb9f3a"
            ],
            [
             0.8888888888888888,
             "#fdca26"
            ],
            [
             1,
             "#f0f921"
            ]
           ],
           "sequentialminus": [
            [
             0,
             "#0d0887"
            ],
            [
             0.1111111111111111,
             "#46039f"
            ],
            [
             0.2222222222222222,
             "#7201a8"
            ],
            [
             0.3333333333333333,
             "#9c179e"
            ],
            [
             0.4444444444444444,
             "#bd3786"
            ],
            [
             0.5555555555555556,
             "#d8576b"
            ],
            [
             0.6666666666666666,
             "#ed7953"
            ],
            [
             0.7777777777777778,
             "#fb9f3a"
            ],
            [
             0.8888888888888888,
             "#fdca26"
            ],
            [
             1,
             "#f0f921"
            ]
           ]
          },
          "colorway": [
           "#636efa",
           "#EF553B",
           "#00cc96",
           "#ab63fa",
           "#FFA15A",
           "#19d3f3",
           "#FF6692",
           "#B6E880",
           "#FF97FF",
           "#FECB52"
          ],
          "font": {
           "color": "#2a3f5f"
          },
          "geo": {
           "bgcolor": "white",
           "lakecolor": "white",
           "landcolor": "#E5ECF6",
           "showlakes": true,
           "showland": true,
           "subunitcolor": "white"
          },
          "hoverlabel": {
           "align": "left"
          },
          "hovermode": "closest",
          "mapbox": {
           "style": "light"
          },
          "paper_bgcolor": "white",
          "plot_bgcolor": "#E5ECF6",
          "polar": {
           "angularaxis": {
            "gridcolor": "white",
            "linecolor": "white",
            "ticks": ""
           },
           "bgcolor": "#E5ECF6",
           "radialaxis": {
            "gridcolor": "white",
            "linecolor": "white",
            "ticks": ""
           }
          },
          "scene": {
           "xaxis": {
            "backgroundcolor": "#E5ECF6",
            "gridcolor": "white",
            "gridwidth": 2,
            "linecolor": "white",
            "showbackground": true,
            "ticks": "",
            "zerolinecolor": "white"
           },
           "yaxis": {
            "backgroundcolor": "#E5ECF6",
            "gridcolor": "white",
            "gridwidth": 2,
            "linecolor": "white",
            "showbackground": true,
            "ticks": "",
            "zerolinecolor": "white"
           },
           "zaxis": {
            "backgroundcolor": "#E5ECF6",
            "gridcolor": "white",
            "gridwidth": 2,
            "linecolor": "white",
            "showbackground": true,
            "ticks": "",
            "zerolinecolor": "white"
           }
          },
          "shapedefaults": {
           "line": {
            "color": "#2a3f5f"
           }
          },
          "ternary": {
           "aaxis": {
            "gridcolor": "white",
            "linecolor": "white",
            "ticks": ""
           },
           "baxis": {
            "gridcolor": "white",
            "linecolor": "white",
            "ticks": ""
           },
           "bgcolor": "#E5ECF6",
           "caxis": {
            "gridcolor": "white",
            "linecolor": "white",
            "ticks": ""
           }
          },
          "title": {
           "x": 0.05
          },
          "xaxis": {
           "automargin": true,
           "gridcolor": "white",
           "linecolor": "white",
           "ticks": "",
           "title": {
            "standoff": 15
           },
           "zerolinecolor": "white",
           "zerolinewidth": 2
          },
          "yaxis": {
           "automargin": true,
           "gridcolor": "white",
           "linecolor": "white",
           "ticks": "",
           "title": {
            "standoff": 15
           },
           "zerolinecolor": "white",
           "zerolinewidth": 2
          }
         }
        },
        "title": {
         "text": "TextBlob vs VADER"
        },
        "xaxis": {
         "anchor": "y",
         "autorange": true,
         "domain": [
          0,
          1
         ],
         "range": [
          -1.1182190378710337,
          1.1182190378710337
         ],
         "title": {
          "text": "polarity"
         },
         "type": "linear"
        },
        "yaxis": {
         "anchor": "x",
         "autorange": true,
         "domain": [
          0,
          1
         ],
         "range": [
          -1.1104077669902912,
          1.1104077669902912
         ],
         "title": {
          "text": "vader_compound"
         },
         "type": "linear"
        }
       }
      },
      "image/png": "[encoded data removed]",
      "text/html": [
       "<div>\n",
       "        \n",
       "        \n",
       "            <div id=\"72fd367b-da94-4a4e-939d-e4a46a997782\" class=\"plotly-graph-div\" style=\"height:525px; width:100%;\"></div>\n",
       "            <script type=\"text/javascript\">\n",
       "                require([\"plotly\"], function(Plotly) {\n",
       "                    window.PLOTLYENV=window.PLOTLYENV || {};\n",
       "                    \n",
       "                if (document.getElementById(\"72fd367b-da94-4a4e-939d-e4a46a997782\")) {\n",
       "                    Plotly.newPlot(\n",
       "                        '72fd367b-da94-4a4e-939d-e4a46a997782',\n",
       "                        [{\"customdata\": [[\"must blame mr ekandjo ! everything belong swapo .\"], [\"call national flag say belong swapo ? contradiction .\"], [\"immanuel benefits swapo wants stay power till jesus comes . saara co ' see anything wrong , heads ' well oiled machine. ship sank already , ' drawing .\"], [\"swanu flag inspired swapo flag ?\"], [\"swapo wants rule enrich pockets like pm. kak biased shows .\"], [\"swapo want claim namibia flag belongs party still named south west africa ? serious , name would changed 1990 nampo problem swapo think citizens serve instead serving people .\"], [\"swapo go hell sowaar done ' fact useless president thank since national flag belong swapo utter nonsense let power get heads shit comes mouth\"], [\"mad ... swapo namibia\"], [\"992 woman babelaas ... swapo gone dogs ... long overdue ... saara must go retirement outapi ...\"], [\"swapo ' flag belongs ?\"], [\"one knows jesus ? confusing whole thing outapi clique thievery. spoilt swapo thinking rule forever jesus comes . ' read article one thing certain , last kicks dying zebra , horse , shamefull\"], [\"forcing people ... unfair distribution resources country. never go swapo .\"], [\"swapo elite becoming desperate understand days over. namibians enough corruption. appealing christian superstition going save swapo 2024 .\"], [\"swapo , put people swapo power ? national flag national flag , swapo given power create it. words democratically right echo. leaders focus serving people want power , self identity\"], [\"atleast within swapo give power youth , since independence old people recycled one ministry another .\"], [\"opposition parties warpath prime minister saara kuugongelwa amadhila took leaf former south african president jacob zuma ' political playbook saying swapo kept power jesus returns.\"], [\"day swapo lose elections , historical upset time. swear day shall come soon gonna believe happened. mark date ! ! ! way mock jesus way , embrassed .\"], [\"something last election ruled unconstitutional yet hage charge swapo ruling party shows depth corruption within borders among politicians literally screwed like real\"], [\"whilst swapo rulers living lavishly families cronies , many sold namibian resources bronze platter , stealing country bankrupt telling us money , enjoying lavish celebrations. people ' pensions\"], [\"words come bite her. ask meme kahungu said windhoek mayoral leadership swapo. today ?\"], [\"swapo running away corruption like\"], [\"support swapo jesus came , briefly explain ? 55marks\"], [\"immanuel swapo already failed nation. 32 years independence , 1.6 millions people ' living poverty. unless want power self enrichment purposes ...\"], [\"namibian exile kids association neka launched strategic plan 2022 2024 includes one goals attaining affiliation membership swapo.\"], [\"swapo broken organization needs fixer like olivia pope .... sadly plans change things still eating stealing\"], [\"forget ... time ! swapo two years .\"], [\"thing keep swapo power votes otherwise , ' cooking\"], [\"sands whole swapo hell right?? ? dont think juses likes criminals .\"], [\"swapo day story past like jesus.\"], [\"swapo broken organization needs fixer like olivia pope\"], [\"allow swapo defeated jesus comes back , prime minister saara kuugongelwa amadhila recently said. get today ' issue namibian more.\"], [\"mee saara ! jesus came back 2019 swapo lost two thirds majority many municipalities. wake calls. love swapo , unless swapo mends broken fences seals leaky roofs , worst come. many people think differently swapo today.\"], [\"lmk really stupid swapo people shame using jesus name ashame people namibia .. ! ! ! thugs thats are. ! ! !\"], [\"choice give end swapo\"], [\"' high time swapo government stop ' decided rule amongst otjiherero speaking speaking community , swapo different apartheid ...\"], [\"swapo ruined beautiful nation\"], [\"veteran diplomat kaire mbuende elected new district secretary swapo party elders council okorukambe district , omaheke region. spec secretary mukwaita shanyengana confirmed. mbuende replaces omaheke governor pijoo nganate.\"], [\"restructuring process weekend , swapo party elders council okorukambe district elected dr kaire mbuende secretary , magdalena risuro mobiliser , hendrik nuseb party elders ' council treasurer.\"], [\"made remarks okatana oshana region 62nd swapo party anniversary celebrations. #nbcnews #nbcdstv282 #nbcdigitalnews\"], [\"swapo party politburo central committee member , saara kuugongelwa amadhila urged fellow party members supporters allow controlled opposition. #nbcnews #nbcdstv282 #nbcdigitalnews\"], [\"might join swapo\"], [\"love ndilimani songs. even hate swapo. ideological differences leaders helm party. madam headquarters particular\"], [\"rikki tikki air force army conducted joint training order counter future incursions swapo. alongside formations mirages flown around conducting cas trainings army recently got several grk mortars , test fired today success.\"], [\"heading next swapo rally score small small tender\"], [\"even hate swapo , ndilimani songs comes ' sing along bossa\"], [\"engaged spontaneous walkabout residents tsumeb , including school learners. teacher early 1960s tsumeb home joined swapo here. holds special place heart thank residents love warm , spontaneous reception.\"], [\"tsumeb holds special place life president geingob town president worked school teacher early 1960s left exile fight freedom. also town joined swapo .\"], [\"nowadays people ' want associated anything resembles swapo.\"], [\"rikki tikki saaf aircraft reportedly bombed several key swapo positions around called ovamboland kavangoland bantustans. mirages seen conducting air sorties swapo logistic sites , killing several crippling supply routes.\"], [\"welcome swapo\"], [\"swapo members swapo party kharas region celebrated party ' 62nd birthday anniversary keetmanshoop. swapo party liberation struggle stalwart ben boys delivered keynote address. report luqman cloete #nbcnews #nbcdstv282 #nbcdigitalnews\"], [\"poor man , ndishishi , kapofi simataa zimbabwean cogorts brought sme bank ' knees leaving luxuries courtesy swapo government poor guy must suffer much. hypocrisy justice capitalist systems adopted default ..\"], [\"omuna ondumbo ..... amushelelo ryt thing us non swapo\"], [\"bread winner current national situation affairs , motivate family members vote. right activist. help activists. #arsenal #manunited #swapo #nationalassembly #nato #activist\"], [\"' good voted ipc lpm , rest history come 2024 , people vote vote swapo dictators hungered blind power ...\"], [\"immanuel low swapo go oshili ! man need stop .its unacceptable\"], [\"founding president main speaker swapo party birthday celebration tomorrow omusati region , yaholike efeni omusamane afudhepo , hes fragile .\"], [\"mutorwa high echelons swapo constituencies kavango regions dire state backwardness , singing semaa uuulipeni , swapo rallies , people must wake smell coffee.else ' also easy understand , mutorwa look belly\"], [\"future ama 20s telling history thier kids like white people colonise parents 1990 swapo took also colonise us ..\"], [\"swapo party week send delegation germany engage country ' government different issues.\"], [\"swapo keeping tight lid details regarding trip berlin , germany , party officials , amid talks genocide subject agenda.\"], [\"pave way young meme doctor hilary mare liberation stalwart , swapo icon namibia first female doctor , dr libertine inaviposa amathila popularly known meme doctor said swapo must pass\"], [\"still part system ' even amazed pampering words tell ' swapo things turning blind retirement must fall , want say never seen differences ? must wake swapo\"], [\"god ' reply swapo ' independence antics\"], [\"sure swapo bar edundja. structure looks familiar lots bars north\"], [\"cde lot zimbo ' engineers working engineering consulting companies. could offered better design. remember volvo incident 11 mill gt 4 mil. swapo\"], [\"swapo leaders fishing permit poor besides ' pilchard fish ocean god\"], [\"correct , want stay even walk knees , ' majority namibians living standards going , chaise.swapo driving country dungeons , today ' money , seriously. ministers cohorts lives nicely\"], [\"swapo\"], [\", state swapo money ?\"], [\"neff get lot people voting 2024 elections. right commendable tackling things swapo others ignored 30 years. exploitation local people foreigners\"], [\"money like swapo\"], [\"surprise , shocked , normal napo swapo government .\"], [\"guys lunch room builders contractors , sure swapo bad say , let give chance let give sometime\"], [\"building swapo offices int districts ?\"], [\"former cabinet minister erkki nghimtina says spent n 300 000 n 400 000 build swapo district office edundja village ohangwena region.\"], [\"immanuel pity pg one telling us money lost instead asking look , fima , iha twiilongosha ndishi , swapo killing country\"], [\"support comes anc alliance ssn sdc may refuse acknowledge. government fails give kind support may long like zanu pf , bdp , pf swapo bothered levels .\"], [\"police kavango east region stopped move residents mashare constituency forcefully close councillor ' office. residents accused constituency swapo party councillor philipus mavara incompetency , allegedly failed ...\"], [\"nbc useless , employee went strike last year several times. worried reporting matter. obviously nbc would wish namibian see ' something wrong neff doing. nbc like swapo represent interest .\"], [\"swapo secretary general sophia shaningwa described 19 deadly virus , greatly affected ruling party financially.\"], [\"civil servants , ' forget failed , corrupt bankrupt hage geingob administration us. deserve pay rise economic troubling times ' it. ever vote swapo , suffer forever. change painful worth .\"], [\"namibia , nation ' best interests heart like help people , automatically enemy swapo .\"], [\"reason celebrate , zero millionaire. swapo transforming guys life .\"], [\"education system collapsed way back swapo gave useless people , dr abraham\"], [\"onawa , jumping , left center , jus let swapo\"], [\"swapo mp national assembly dr. tobie aupindi says mining sector potential increase revenue create new industries. however , raised concern budget allocation ministry mines energy enough. #nbcnews\"], [\"join swapo become millionaire 10 days\"], [\"kalimbwe swapo never worked opposition lusaka oust unip. must selective learn past generation .\"], [\"blame swapo\"], [\"gucci swapo\"], [\"always stubborn people vote swapo , ' reason ' going forward. popyeni noonyokulu also please tired\"], [\"swapo united , hard work ahead 32 years later still singing song ?\"], [\"' allow anyone make us hate house swapo home\"], [\"today opo transformed swapo make inclusive namibian organization instead regional organization. therefore celebrate 62 years people party. happy 62 birthday vanguard people party. swapo united hard work ahead .\"], [\"' leather store access park cpt near kc sell swapo leather jackets ! random !\"], [\"' say , swapo really fumbled bag selling jackets. drip never denied\"], [\"tuesday , swapo president hage geingob said ruling party ' governance efforts past 32 years since independence ensured banishment spectre apartheid brutality. added still needs done ensure\"], [\"kalimbwe anc , zapu swapo spent time crime lusaka , robbing amd murdering citizens ?\"], [\"founding president sam nujoma called swapo party women council transform formidable force reckoned namibian society far women children matters concerned.\"], [\"president hage geingob yesterday waxed lyrical achievement ruling party swapo turned 62 yesterday retired party veterans argued former liberation movement become economic opportunism corruption.\"], [\"anc , swapo zanu pf losing support bases. people fed unemployment , corruption nepotism\"], [\"eagle fm talks helmut angula swapo past , present future. join wonder 16h30 18h30 home run today.\"], [\"swapo secretary general sophia shaningwa hit back questioning defence party , official opening swapo ' oshikango district office tuesday afternoon.\"], [\"like egg vali ? thought swapo solid rock !\"], [\"safe except swapo filter. redder flag ..\"], [\"morning. president need help country namibia . ' poverty corruption swapo government . oil gas resources poor namibia suffering. help us itearm development country please\"], [\"sleeping cattles foods still going make noise saying viva swapo viva hage using smll amount energy tht got eating 1 spoon soft porridge hon hage others eating want , sleeping upstairs ?\"], [\"mesophia se otuna manga eproblem domanchester united , swapo well hold\"], [\"swapo headcounters\"], [\"shackez95 know swapo member please meme\"], [\"swapo elimo nayi ku hage lou lou , made plan show nuuyoma true king is. ' blindly follow sinking ship\"], [\"way go , boers spoed swapo nunw 32 good years , viva brave son namibia standing poor black compatriots mistreated capitalist whilst black elites grn eating whites foreigners , ranga , muniaro\"], [\"straightforward message , line popular general mood continent self determination national independence swapo party formed , progressive liberation movement .\"], [\"shackez95 treat swapo like egg\"], [\"swapo myth one day\"], [\"message excellency dr. , president republic namibia president swapo party occasion 62nd anniversary swapo party #onlyswapo #swapo #swapo62\"], [\"neeh man already man stop swapo\"], [\"ano swapo require much defending ?\"], [\"happy birthday mighty swapo party ..\"], [\"swapo secretary general sophia shaningwa says swapo treated care like egg.\"], [\"tweet reveal swapo supporters anyway also want office national headquarters\"], [\"swapo party women ' council spwc secretary fransina kahungu committed training future political leaders party today celebrated 62nd birthday.\"], [\"namibians , swapo treat namibians like eggs like shit , every week passes insulted swapo dictators , time come , maybe change like dta venaani start eating ruling party time 2024 ...\"], [\"start treating swapo like egg know someone aromat\"], [\"swapo 60 , must retire get penjen go home\"], [\"swapo barcelona\"], [\"gave birth group monsters , call swapo leaders tuu ? ?\"], [\"happy 62nd birthday swapo party grande old vanguard movement.\"], [\"swapo handclappers , comrades looking defenders.\"], [\"last time something good country 1 april 1989. swapo 1 april 1989 misery us future generations. money blood nothing\"], [\"symptoms dangerous girlfriend 1. iphone 13 2. natural hair 3. size 5 4. drinks carling black label 5. smokes hubbly 6. tattoos chest 7. swapo filter\"], [\"today opo transformed swapo make inclusive namibian organization instead regional organization. therefore celebrate 62 years people party. happy 62 birthday vanguard people party. swapo united hard work ahead.\"], [\"meme sg must stop tippytoeing come say chest swapo need calibre ar activists. ' known fact celebrities proximity power fail defend party , preoccupied stomach ideological political empty heads.\"], [\"swapo factions oshana region smoke peace pipe eleventh hour regional coordinator samuel nelongo canceled planned party birthday festivities netumbo nandi ndaitwah scheduled key speaker.\"], [\"swapo grandfather\"], [\"china russia cold war time see eye eye. china supported apartheid aligned fnla unita angola war umkhoto wesizwe , swapo , mpla cuba.\"], [\"party needs real defenders , pretenders. want young people take care party , shaningwa said swapo 62nd anniversary celebrations oshakati sunday. get namibian today !\"], [\"mistake thinking everybody worship swapo born free ! !\"], [\"swapo turns 62 years today , secretary general sophia shaningwa urged members protect treat party egg become fragile vulnerable due divisions infighting.\"], [\"swapo founded day\"], [\"swapo public relation government public relation. passion whatsoever development narrative , stone face silence. inexplicable. seriously born frees believes whatever written namibian sun etc. impressionable know better .\"], [\"swapo secretary general sophia shaningwa said division , factionalism disunity entertained swapo. also warned members party jealously protect it. buy namibian !\"], [\"blame public relations team swapo , tell good things swapo done independence. wonder day day basis .\"], [\"mekondjo cases , complaints even taken serious government. complained vaccines , vaccinated. complained swapo , vote it. complained swapo yet one majority swapo voters.\"], [\"swapo ' oshana regional coordinator , samuel nelongo , last friday said would attend drive event sunday , says meeting swapo secretary general sophia shaningwa resolved differences.\"], [\"cde , ask pres question prepare swapo elective congress held later year , please tell still united slate 2017 congress ? earlier better ! bad ask.\"], [\"vulnerable people getting vouchers use agra instead drought relief packages doorsteps ? people need spend money transport go shops. swapo people even bother think anymore. even owns aggra ?\"]], \"hovertemplate\": \"polarity=%{x}<br>vader_compound=%{y}<br>Tweet=%{customdata[0]}<extra></extra>\", \"legendgroup\": \"\", \"marker\": {\"color\": \"#636efa\", \"symbol\": \"circle\"}, \"mode\": \"markers\", \"name\": \"\", \"orientation\": \"v\", \"showlegend\": false, \"type\": \"scatter\", \"x\": [0.0, 0.0, -0.15, 0.0, 0.2, -0.3333333333333333, -0.2333333333333333, -0.625, -0.05, 0.0, 0.028571428571428574, -0.5, 0.07, 0.2857142857142857, 0.1, 0.0, 0.0, 0.1, 0.5, 0.0, 0.0, 0.0, -0.5, 0.0, -0.45, 0.0, 0.0, 0.24285714285714285, -0.25, -0.4, 0.16666666666666666, 0.014285714285714282, -1.0, 0.0, 0.08, 0.85, 0.1787878787878788, 0.0, 0.0, 0.0, 0.0, -0.04444444444444446, 0.075, -0.16666666666666666, -0.8, 0.4595238095238095, 0.1523809523809524, 0.0, 0.0, 0.8, 0.35, -0.20000000000000004, 0.0, 0.14285714285714285, 0.09999999999999998, 0.0, 0.08333333333333333, 0.2966666666666667, 0.0, 0.0, -0.17261904761904762, 0.2375, -0.5, 0.0, 0.4375, 0.5, -0.4, 0.13333333333333333, 0.0, 0.0, 0.14285714285714285, 0.0, -0.27499999999999997, -0.09999999999999992, 0.0, -0.05, -0.1, 0.01666666666666666, -0.5, -0.2, 0.1625, -0.24, 1.0, 0.0, -0.25, -0.05, 0.04545454545454545, 0.0, -0.25, 0.0, 0.0, -0.4, -0.14583333333333334, -0.8, 0.25416666666666665, -0.25, 0.2, -0.25, -0.1, 0.1, 0.1, 0.0, -0.08333333333333333, 0.02500000000000001, 0.0, 0.5, -0.4, 0.1, 0.0, 0.0, 0.0, -0.07500000000000001, 0.15333333333333338, 0.3416666666666666, 0.0, 0.0, 0.0, 0.0, 0.2, 0.6000000000000001, 0.05000000000000002, 0.0, 0.11666666666666665, -0.2, 0.0, 0.0, 0.0, 0.0, 0.45, 0.0, 0.2333333333333333, -0.2222222222222222, 0.25416666666666665, -0.19999999999999998, 0.0, 0.0, -0.6, 0.1625, 0.625, -0.14375, 0.0, -0.08666666666666667, 0.06250000000000003, 0.35, -0.30833333333333335, 0.02500000000000001, -0.01874999999999996, -0.5], \"xaxis\": \"x\", \"y\": [-0.4003, -0.25, 0.1531, 0.4939, 0.1027, 0.0, -0.9099, -0.4939, 0.0, 0.0, -0.4215, -0.4767, 0.2263, 0.34, 0.0, 0.4019, -0.8472, 0.25, -0.5994, 0.0, 0.3612, 0.4019, -0.743, 0.128, -0.7964, -0.2942, 0.0, -0.9037, 0.3612, -0.1531, -0.296, -0.68, -0.8386, 0.0, -0.296, 0.2023, 0.4019, 0.7096, 0.4019, 0.8481, 0.296, 0.4939, 0.0258, 0.0, -0.5719, 0.9531, 0.6486, 0.0772, -0.6597, 0.4588, 0.8591, -0.5859, 0.0, 0.8442, 0.0516, -0.7644, 0.4019, -0.0258, 0.3612, 0.6249, 0.4019, 0.2263, 0.2023, 0.2732, 0.3182, 0.6124, -0.25, 0.3612, 0.0, 0.0, -0.3182, 0.3612, -0.0516, -0.0516, 0.0, 0.0, -0.836, 0.6124, -0.5719, -0.0772, 0.2665, -0.9531, 0.9022, 0.5719, -0.5994, 0.0, 0.6705, 0.296, 0.0, -0.34, 0.0, -0.5106, 0.34, -0.4215, 0.9349, 0.0, 0.3412, 0.0772, -0.8316, 0.4215, 0.5106, -0.4215, 0.296, 0.4019, 0.5255, 0.4404, -0.4215, 0.34, 0.5994, 0.0, 0.3182, 0.4215, 0.4939, 0.802, 0.6369, 0.0, 0.836, -0.296, 0.0, 0.7506, 0.6908, 0.4939, 0.8807, 0.6124, 0.3612, 0.0, 0.0, 0.0, 0.7506, 0.0772, -0.2023, -0.1531, 0.9349, -0.5859, 0.8519, 0.0, -0.7579, 0.8588, 0.5696, 0.7269, 0.0, 0.765, 0.4926, 0.128, -0.8779, 0.1779, 0.5848, -0.1431], \"yaxis\": \"y\"}],\n",
       "                        {\"legend\": {\"tracegroupgap\": 0}, \"template\": {\"data\": {\"bar\": [{\"error_x\": {\"color\": \"#2a3f5f\"}, \"error_y\": {\"color\": \"#2a3f5f\"}, \"marker\": {\"line\": {\"color\": \"#E5ECF6\", \"width\": 0.5}}, \"type\": \"bar\"}], \"barpolar\": [{\"marker\": {\"line\": {\"color\": \"#E5ECF6\", \"width\": 0.5}}, \"type\": \"barpolar\"}], \"carpet\": [{\"aaxis\": {\"endlinecolor\": \"#2a3f5f\", \"gridcolor\": \"white\", \"linecolor\": \"white\", \"minorgridcolor\": \"white\", \"startlinecolor\": \"#2a3f5f\"}, \"baxis\": {\"endlinecolor\": \"#2a3f5f\", \"gridcolor\": \"white\", \"linecolor\": \"white\", \"minorgridcolor\": \"white\", \"startlinecolor\": \"#2a3f5f\"}, \"type\": \"carpet\"}], \"choropleth\": [{\"colorbar\": {\"outlinewidth\": 0, \"ticks\": \"\"}, \"type\": \"choropleth\"}], \"contour\": [{\"colorbar\": {\"outlinewidth\": 0, \"ticks\": \"\"}, \"colorscale\": [[0.0, \"#0d0887\"], [0.1111111111111111, \"#46039f\"], [0.2222222222222222, \"#7201a8\"], [0.3333333333333333, \"#9c179e\"], [0.4444444444444444, \"#bd3786\"], [0.5555555555555556, \"#d8576b\"], [0.6666666666666666, \"#ed7953\"], [0.7777777777777778, \"#fb9f3a\"], [0.8888888888888888, \"#fdca26\"], [1.0, \"#f0f921\"]], \"type\": \"contour\"}], \"contourcarpet\": [{\"colorbar\": {\"outlinewidth\": 0, \"ticks\": \"\"}, \"type\": \"contourcarpet\"}], \"heatmap\": [{\"colorbar\": {\"outlinewidth\": 0, \"ticks\": \"\"}, \"colorscale\": [[0.0, \"#0d0887\"], [0.1111111111111111, \"#46039f\"], [0.2222222222222222, \"#7201a8\"], [0.3333333333333333, \"#9c179e\"], [0.4444444444444444, \"#bd3786\"], [0.5555555555555556, \"#d8576b\"], [0.6666666666666666, \"#ed7953\"], [0.7777777777777778, \"#fb9f3a\"], [0.8888888888888888, \"#fdca26\"], [1.0, \"#f0f921\"]], \"type\": \"heatmap\"}], \"heatmapgl\": [{\"colorbar\": {\"outlinewidth\": 0, \"ticks\": \"\"}, \"colorscale\": [[0.0, \"#0d0887\"], [0.1111111111111111, \"#46039f\"], [0.2222222222222222, \"#7201a8\"], [0.3333333333333333, \"#9c179e\"], [0.4444444444444444, \"#bd3786\"], [0.5555555555555556, \"#d8576b\"], [0.6666666666666666, \"#ed7953\"], [0.7777777777777778, \"#fb9f3a\"], [0.8888888888888888, \"#fdca26\"], [1.0, \"#f0f921\"]], \"type\": \"heatmapgl\"}], \"histogram\": [{\"marker\": {\"colorbar\": {\"outlinewidth\": 0, \"ticks\": \"\"}}, \"type\": \"histogram\"}], \"histogram2d\": [{\"colorbar\": {\"outlinewidth\": 0, \"ticks\": \"\"}, \"colorscale\": [[0.0, \"#0d0887\"], [0.1111111111111111, \"#46039f\"], [0.2222222222222222, \"#7201a8\"], [0.3333333333333333, \"#9c179e\"], [0.4444444444444444, \"#bd3786\"], [0.5555555555555556, \"#d8576b\"], [0.6666666666666666, \"#ed7953\"], [0.7777777777777778, \"#fb9f3a\"], [0.8888888888888888, \"#fdca26\"], [1.0, \"#f0f921\"]], \"type\": \"histogram2d\"}], \"histogram2dcontour\": [{\"colorbar\": {\"outlinewidth\": 0, \"ticks\": \"\"}, \"colorscale\": [[0.0, \"#0d0887\"], [0.1111111111111111, \"#46039f\"], [0.2222222222222222, \"#7201a8\"], [0.3333333333333333, \"#9c179e\"], [0.4444444444444444, \"#bd3786\"], [0.5555555555555556, \"#d8576b\"], [0.6666666666666666, \"#ed7953\"], [0.7777777777777778, \"#fb9f3a\"], [0.8888888888888888, \"#fdca26\"], [1.0, \"#f0f921\"]], \"type\": \"histogram2dcontour\"}], \"mesh3d\": [{\"colorbar\": {\"outlinewidth\": 0, \"ticks\": \"\"}, \"type\": \"mesh3d\"}], \"parcoords\": [{\"line\": {\"colorbar\": {\"outlinewidth\": 0, \"ticks\": \"\"}}, \"type\": \"parcoords\"}], \"pie\": [{\"automargin\": true, \"type\": \"pie\"}], \"scatter\": [{\"marker\": {\"colorbar\": {\"outlinewidth\": 0, \"ticks\": \"\"}}, \"type\": \"scatter\"}], \"scatter3d\": [{\"line\": {\"colorbar\": {\"outlinewidth\": 0, \"ticks\": \"\"}}, \"marker\": {\"colorbar\": {\"outlinewidth\": 0, \"ticks\": \"\"}}, \"type\": \"scatter3d\"}], \"scattercarpet\": [{\"marker\": {\"colorbar\": {\"outlinewidth\": 0, \"ticks\": \"\"}}, \"type\": \"scattercarpet\"}], \"scattergeo\": [{\"marker\": {\"colorbar\": {\"outlinewidth\": 0, \"ticks\": \"\"}}, \"type\": \"scattergeo\"}], \"scattergl\": [{\"marker\": {\"colorbar\": {\"outlinewidth\": 0, \"ticks\": \"\"}}, \"type\": \"scattergl\"}], \"scattermapbox\": [{\"marker\": {\"colorbar\": {\"outlinewidth\": 0, \"ticks\": \"\"}}, \"type\": \"scattermapbox\"}], \"scatterpolar\": [{\"marker\": {\"colorbar\": {\"outlinewidth\": 0, \"ticks\": \"\"}}, \"type\": \"scatterpolar\"}], \"scatterpolargl\": [{\"marker\": {\"colorbar\": {\"outlinewidth\": 0, \"ticks\": \"\"}}, \"type\": \"scatterpolargl\"}], \"scatterternary\": [{\"marker\": {\"colorbar\": {\"outlinewidth\": 0, \"ticks\": \"\"}}, \"type\": \"scatterternary\"}], \"surface\": [{\"colorbar\": {\"outlinewidth\": 0, \"ticks\": \"\"}, \"colorscale\": [[0.0, \"#0d0887\"], [0.1111111111111111, \"#46039f\"], [0.2222222222222222, \"#7201a8\"], [0.3333333333333333, \"#9c179e\"], [0.4444444444444444, \"#bd3786\"], [0.5555555555555556, \"#d8576b\"], [0.6666666666666666, \"#ed7953\"], [0.7777777777777778, \"#fb9f3a\"], [0.8888888888888888, \"#fdca26\"], [1.0, \"#f0f921\"]], \"type\": \"surface\"}], \"table\": [{\"cells\": {\"fill\": {\"color\": \"#EBF0F8\"}, \"line\": {\"color\": \"white\"}}, \"header\": {\"fill\": {\"color\": \"#C8D4E3\"}, \"line\": {\"color\": \"white\"}}, \"type\": \"table\"}]}, \"layout\": {\"annotationdefaults\": {\"arrowcolor\": \"#2a3f5f\", \"arrowhead\": 0, \"arrowwidth\": 1}, \"coloraxis\": {\"colorbar\": {\"outlinewidth\": 0, \"ticks\": \"\"}}, \"colorscale\": {\"diverging\": [[0, \"#8e0152\"], [0.1, \"#c51b7d\"], [0.2, \"#de77ae\"], [0.3, \"#f1b6da\"], [0.4, \"#fde0ef\"], [0.5, \"#f7f7f7\"], [0.6, \"#e6f5d0\"], [0.7, \"#b8e186\"], [0.8, \"#7fbc41\"], [0.9, \"#4d9221\"], [1, \"#276419\"]], \"sequential\": [[0.0, \"#0d0887\"], [0.1111111111111111, \"#46039f\"], [0.2222222222222222, \"#7201a8\"], [0.3333333333333333, \"#9c179e\"], [0.4444444444444444, \"#bd3786\"], [0.5555555555555556, \"#d8576b\"], [0.6666666666666666, \"#ed7953\"], [0.7777777777777778, \"#fb9f3a\"], [0.8888888888888888, \"#fdca26\"], [1.0, \"#f0f921\"]], \"sequentialminus\": [[0.0, \"#0d0887\"], [0.1111111111111111, \"#46039f\"], [0.2222222222222222, \"#7201a8\"], [0.3333333333333333, \"#9c179e\"], [0.4444444444444444, \"#bd3786\"], [0.5555555555555556, \"#d8576b\"], [0.6666666666666666, \"#ed7953\"], [0.7777777777777778, \"#fb9f3a\"], [0.8888888888888888, \"#fdca26\"], [1.0, \"#f0f921\"]]}, \"colorway\": [\"#636efa\", \"#EF553B\", \"#00cc96\", \"#ab63fa\", \"#FFA15A\", \"#19d3f3\", \"#FF6692\", \"#B6E880\", \"#FF97FF\", \"#FECB52\"], \"font\": {\"color\": \"#2a3f5f\"}, \"geo\": {\"bgcolor\": \"white\", \"lakecolor\": \"white\", \"landcolor\": \"#E5ECF6\", \"showlakes\": true, \"showland\": true, \"subunitcolor\": \"white\"}, \"hoverlabel\": {\"align\": \"left\"}, \"hovermode\": \"closest\", \"mapbox\": {\"style\": \"light\"}, \"paper_bgcolor\": \"white\", \"plot_bgcolor\": \"#E5ECF6\", \"polar\": {\"angularaxis\": {\"gridcolor\": \"white\", \"linecolor\": \"white\", \"ticks\": \"\"}, \"bgcolor\": \"#E5ECF6\", \"radialaxis\": {\"gridcolor\": \"white\", \"linecolor\": \"white\", \"ticks\": \"\"}}, \"scene\": {\"xaxis\": {\"backgroundcolor\": \"#E5ECF6\", \"gridcolor\": \"white\", \"gridwidth\": 2, \"linecolor\": \"white\", \"showbackground\": true, \"ticks\": \"\", \"zerolinecolor\": \"white\"}, \"yaxis\": {\"backgroundcolor\": \"#E5ECF6\", \"gridcolor\": \"white\", \"gridwidth\": 2, \"linecolor\": \"white\", \"showbackground\": true, \"ticks\": \"\", \"zerolinecolor\": \"white\"}, \"zaxis\": {\"backgroundcolor\": \"#E5ECF6\", \"gridcolor\": \"white\", \"gridwidth\": 2, \"linecolor\": \"white\", \"showbackground\": true, \"ticks\": \"\", \"zerolinecolor\": \"white\"}}, \"shapedefaults\": {\"line\": {\"color\": \"#2a3f5f\"}}, \"ternary\": {\"aaxis\": {\"gridcolor\": \"white\", \"linecolor\": \"white\", \"ticks\": \"\"}, \"baxis\": {\"gridcolor\": \"white\", \"linecolor\": \"white\", \"ticks\": \"\"}, \"bgcolor\": \"#E5ECF6\", \"caxis\": {\"gridcolor\": \"white\", \"linecolor\": \"white\", \"ticks\": \"\"}}, \"title\": {\"x\": 0.05}, \"xaxis\": {\"automargin\": true, \"gridcolor\": \"white\", \"linecolor\": \"white\", \"ticks\": \"\", \"title\": {\"standoff\": 15}, \"zerolinecolor\": \"white\", \"zerolinewidth\": 2}, \"yaxis\": {\"automargin\": true, \"gridcolor\": \"white\", \"linecolor\": \"white\", \"ticks\": \"\", \"title\": {\"standoff\": 15}, \"zerolinecolor\": \"white\", \"zerolinewidth\": 2}}}, \"title\": {\"text\": \"TextBlob vs VADER\"}, \"xaxis\": {\"anchor\": \"y\", \"domain\": [0.0, 1.0], \"title\": {\"text\": \"polarity\"}}, \"yaxis\": {\"anchor\": \"x\", \"domain\": [0.0, 1.0], \"title\": {\"text\": \"vader_compound\"}}},\n",
       "                        {\"responsive\": true}\n",
       "                    ).then(function(){\n",
       "                            \n",
       "var gd = document.getElementById('72fd367b-da94-4a4e-939d-e4a46a997782');\n",
       "var x = new MutationObserver(function (mutations, observer) {{\n",
       "        var display = window.getComputedStyle(gd).display;\n",
       "        if (!display || display === 'none') {{\n",
       "            console.log([gd, 'removed!']);\n",
       "            Plotly.purge(gd);\n",
       "            observer.disconnect();\n",
       "        }}\n",
       "}});\n",
       "\n",
       "// Listen for the removal of the full notebook cells\n",
       "var notebookContainer = gd.closest('#notebook-container');\n",
       "if (notebookContainer) {{\n",
       "    x.observe(notebookContainer, {childList: true});\n",
       "}}\n",
       "\n",
       "// Listen for the clearing of the current output cell\n",
       "var outputEl = gd.closest('.output');\n",
       "if (outputEl) {{\n",
       "    x.observe(outputEl, {childList: true});\n",
       "}}\n",
       "\n",
       "                        })\n",
       "                };\n",
       "                });\n",
       "            </script>\n",
       "        </div>"
      ]
     },
     "metadata": {},
     "output_type": "display_data"
    }
   ],
   "source": [
    "fig = px.scatter(df, x=\"polarity\", y=\"vader_compound\", hover_data=['Tweet'],\n",
    "                 title=\"TextBlob vs VADER\")\n",
    "fig.show()"
   ]
  },
  {
   "cell_type": "code",
   "execution_count": 62,
   "id": "b713f20d-20f8-4e85-bbe1-47572fa72f96",
   "metadata": {},
   "outputs": [],
   "source": [
    "clean_df =df[['Tweet','VADERsentiment']]"
   ]
  },
  {
   "cell_type": "markdown",
   "id": "d9a47491-e249-4828-baac-9951a3f9155c",
   "metadata": {},
   "source": [
    "## Sentiments Extracted"
   ]
  },
  {
   "cell_type": "code",
   "execution_count": 75,
   "id": "5b76f62a-8e92-404c-9a01-af786580481a",
   "metadata": {},
   "outputs": [],
   "source": [
    "clean_df.to_csv('labelled_tweets_clean.csv')"
   ]
  },
  {
   "cell_type": "code",
   "execution_count": null,
   "id": "ad36877f-3a66-42c9-809b-51536203f3af",
   "metadata": {},
   "outputs": [],
   "source": []
  }
 ],
 "metadata": {
  "kernelspec": {
   "display_name": "Python 3.8",
   "language": "python",
   "name": "python3"
  },
  "language_info": {
   "codemirror_mode": {
    "name": "ipython",
    "version": 3
   },
   "file_extension": ".py",
   "mimetype": "text/x-python",
   "name": "python",
   "nbconvert_exporter": "python",
   "pygments_lexer": "ipython3",
   "version": "3.8.10"
  }
 },
 "nbformat": 4,
 "nbformat_minor": 5
}
